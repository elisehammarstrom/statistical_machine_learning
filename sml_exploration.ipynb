{
 "cells": [
  {
   "cell_type": "code",
   "execution_count": 1,
   "metadata": {},
   "outputs": [],
   "source": [
    "#imports only\n",
    "import pandas as pd\n",
    "import numpy as np\n",
    "import matplotlib.pyplot as plt\n",
    "import sklearn\n",
    "from sklearn.model_selection import train_test_split, StratifiedShuffleSplit, RandomizedSearchCV\n",
    "from scipy import stats\n",
    "import sklearn.preprocessing as skl_pre\n",
    "import sklearn.linear_model as skl_lm\n",
    "import sklearn.discriminant_analysis as skl_da\n",
    "import sklearn.neighbors as skl_nb\n",
    "from sklearn.ensemble import RandomForestClassifier\n",
    "from scipy import stats\n",
    "import seaborn as sns\n",
    "from pandas.plotting import scatter_matrix\n",
    "from sklearn.metrics import confusion_matrix, ConfusionMatrixDisplay\n",
    "import sklearn.discriminant_analysis as skl_da\n"
   ]
  },
  {
   "cell_type": "code",
   "execution_count": 2,
   "metadata": {},
   "outputs": [
    {
     "data": {
      "text/html": [
       "<div>\n",
       "<style scoped>\n",
       "    .dataframe tbody tr th:only-of-type {\n",
       "        vertical-align: middle;\n",
       "    }\n",
       "\n",
       "    .dataframe tbody tr th {\n",
       "        vertical-align: top;\n",
       "    }\n",
       "\n",
       "    .dataframe thead th {\n",
       "        text-align: right;\n",
       "    }\n",
       "</style>\n",
       "<table border=\"1\" class=\"dataframe\">\n",
       "  <thead>\n",
       "    <tr style=\"text-align: right;\">\n",
       "      <th></th>\n",
       "      <th>near_fid</th>\n",
       "      <th>near_x</th>\n",
       "      <th>near_y</th>\n",
       "      <th>near_angle</th>\n",
       "      <th>heard</th>\n",
       "      <th>building</th>\n",
       "      <th>xcoor</th>\n",
       "      <th>ycoor</th>\n",
       "      <th>noise</th>\n",
       "      <th>in_vehicle</th>\n",
       "      <th>asleep</th>\n",
       "      <th>no_windows</th>\n",
       "      <th>age</th>\n",
       "    </tr>\n",
       "  </thead>\n",
       "  <tbody>\n",
       "    <tr>\n",
       "      <th>0</th>\n",
       "      <td>2712</td>\n",
       "      <td>1.998301e+06</td>\n",
       "      <td>9.011692e+06</td>\n",
       "      <td>-171.588672</td>\n",
       "      <td>1</td>\n",
       "      <td>0</td>\n",
       "      <td>1999193.0</td>\n",
       "      <td>9011824</td>\n",
       "      <td>0</td>\n",
       "      <td>0</td>\n",
       "      <td>0</td>\n",
       "      <td>0</td>\n",
       "      <td>59</td>\n",
       "    </tr>\n",
       "    <tr>\n",
       "      <th>1</th>\n",
       "      <td>2721</td>\n",
       "      <td>1.928907e+06</td>\n",
       "      <td>8.954624e+06</td>\n",
       "      <td>-51.208102</td>\n",
       "      <td>1</td>\n",
       "      <td>0</td>\n",
       "      <td>1928298.0</td>\n",
       "      <td>8955382</td>\n",
       "      <td>0</td>\n",
       "      <td>0</td>\n",
       "      <td>0</td>\n",
       "      <td>0</td>\n",
       "      <td>29</td>\n",
       "    </tr>\n",
       "    <tr>\n",
       "      <th>2</th>\n",
       "      <td>297</td>\n",
       "      <td>2.026384e+06</td>\n",
       "      <td>8.256164e+06</td>\n",
       "      <td>39.018754</td>\n",
       "      <td>1</td>\n",
       "      <td>0</td>\n",
       "      <td>2025706.0</td>\n",
       "      <td>8255615</td>\n",
       "      <td>0</td>\n",
       "      <td>0</td>\n",
       "      <td>0</td>\n",
       "      <td>0</td>\n",
       "      <td>32</td>\n",
       "    </tr>\n",
       "    <tr>\n",
       "      <th>3</th>\n",
       "      <td>739</td>\n",
       "      <td>1.743184e+06</td>\n",
       "      <td>8.052652e+06</td>\n",
       "      <td>15.046022</td>\n",
       "      <td>1</td>\n",
       "      <td>0</td>\n",
       "      <td>1742935.0</td>\n",
       "      <td>8052585</td>\n",
       "      <td>0</td>\n",
       "      <td>0</td>\n",
       "      <td>0</td>\n",
       "      <td>0</td>\n",
       "      <td>36</td>\n",
       "    </tr>\n",
       "    <tr>\n",
       "      <th>4</th>\n",
       "      <td>1852</td>\n",
       "      <td>1.350375e+06</td>\n",
       "      <td>7.909850e+06</td>\n",
       "      <td>144.603170</td>\n",
       "      <td>1</td>\n",
       "      <td>0</td>\n",
       "      <td>1350807.0</td>\n",
       "      <td>7909543</td>\n",
       "      <td>0</td>\n",
       "      <td>0</td>\n",
       "      <td>0</td>\n",
       "      <td>0</td>\n",
       "      <td>55</td>\n",
       "    </tr>\n",
       "  </tbody>\n",
       "</table>\n",
       "</div>"
      ],
      "text/plain": [
       "   near_fid        near_x        near_y  near_angle  heard  building   \n",
       "0      2712  1.998301e+06  9.011692e+06 -171.588672      1         0  \\\n",
       "1      2721  1.928907e+06  8.954624e+06  -51.208102      1         0   \n",
       "2       297  2.026384e+06  8.256164e+06   39.018754      1         0   \n",
       "3       739  1.743184e+06  8.052652e+06   15.046022      1         0   \n",
       "4      1852  1.350375e+06  7.909850e+06  144.603170      1         0   \n",
       "\n",
       "       xcoor    ycoor  noise  in_vehicle  asleep  no_windows  age  \n",
       "0  1999193.0  9011824      0           0       0           0   59  \n",
       "1  1928298.0  8955382      0           0       0           0   29  \n",
       "2  2025706.0  8255615      0           0       0           0   32  \n",
       "3  1742935.0  8052585      0           0       0           0   36  \n",
       "4  1350807.0  7909543      0           0       0           0   55  "
      ]
     },
     "execution_count": 2,
     "metadata": {},
     "output_type": "execute_result"
    }
   ],
   "source": [
    "file_path = 'siren_data_train.csv'\n",
    "data = pd.read_csv(file_path)\n",
    "\n",
    "#Split the binary columns into zeroes and ones and use that going forwards\n",
    "#data = pd.get_dummies(data, columns=[\"building\",\"noise\", \"in_vehicle\", \"asleep\",\"no_windows\"])\n",
    "data_copy = data.copy()\n",
    "\n",
    "data.head()"
   ]
  },
  {
   "cell_type": "code",
   "execution_count": 3,
   "metadata": {},
   "outputs": [
    {
     "data": {
      "text/html": [
       "<div>\n",
       "<style scoped>\n",
       "    .dataframe tbody tr th:only-of-type {\n",
       "        vertical-align: middle;\n",
       "    }\n",
       "\n",
       "    .dataframe tbody tr th {\n",
       "        vertical-align: top;\n",
       "    }\n",
       "\n",
       "    .dataframe thead th {\n",
       "        text-align: right;\n",
       "    }\n",
       "</style>\n",
       "<table border=\"1\" class=\"dataframe\">\n",
       "  <thead>\n",
       "    <tr style=\"text-align: right;\">\n",
       "      <th></th>\n",
       "      <th>near_fid</th>\n",
       "      <th>near_x</th>\n",
       "      <th>near_y</th>\n",
       "      <th>near_angle</th>\n",
       "      <th>heard</th>\n",
       "      <th>building</th>\n",
       "      <th>xcoor</th>\n",
       "      <th>ycoor</th>\n",
       "      <th>noise</th>\n",
       "      <th>in_vehicle</th>\n",
       "      <th>asleep</th>\n",
       "      <th>no_windows</th>\n",
       "      <th>age</th>\n",
       "    </tr>\n",
       "  </thead>\n",
       "  <tbody>\n",
       "    <tr>\n",
       "      <th>count</th>\n",
       "      <td>5710.000000</td>\n",
       "      <td>5.710000e+03</td>\n",
       "      <td>5.710000e+03</td>\n",
       "      <td>5710.000000</td>\n",
       "      <td>5710.000000</td>\n",
       "      <td>5710.000000</td>\n",
       "      <td>5.710000e+03</td>\n",
       "      <td>5.710000e+03</td>\n",
       "      <td>5710.000000</td>\n",
       "      <td>5710.000000</td>\n",
       "      <td>5710.000000</td>\n",
       "      <td>5710.000000</td>\n",
       "      <td>5710.000000</td>\n",
       "    </tr>\n",
       "    <tr>\n",
       "      <th>mean</th>\n",
       "      <td>1888.705954</td>\n",
       "      <td>1.797385e+06</td>\n",
       "      <td>8.283496e+06</td>\n",
       "      <td>1.751993</td>\n",
       "      <td>0.760070</td>\n",
       "      <td>0.248687</td>\n",
       "      <td>1.796497e+06</td>\n",
       "      <td>8.283723e+06</td>\n",
       "      <td>0.190893</td>\n",
       "      <td>0.094046</td>\n",
       "      <td>0.006130</td>\n",
       "      <td>0.023643</td>\n",
       "      <td>50.635902</td>\n",
       "    </tr>\n",
       "    <tr>\n",
       "      <th>std</th>\n",
       "      <td>1320.046217</td>\n",
       "      <td>2.783430e+05</td>\n",
       "      <td>5.363099e+05</td>\n",
       "      <td>106.216736</td>\n",
       "      <td>0.427078</td>\n",
       "      <td>0.432290</td>\n",
       "      <td>2.789790e+05</td>\n",
       "      <td>5.369782e+05</td>\n",
       "      <td>0.393039</td>\n",
       "      <td>0.291918</td>\n",
       "      <td>0.078058</td>\n",
       "      <td>0.151947</td>\n",
       "      <td>18.630865</td>\n",
       "    </tr>\n",
       "    <tr>\n",
       "      <th>min</th>\n",
       "      <td>1.000000</td>\n",
       "      <td>1.244070e+06</td>\n",
       "      <td>7.430582e+06</td>\n",
       "      <td>-179.786267</td>\n",
       "      <td>0.000000</td>\n",
       "      <td>0.000000</td>\n",
       "      <td>1.244893e+06</td>\n",
       "      <td>7.432236e+06</td>\n",
       "      <td>0.000000</td>\n",
       "      <td>0.000000</td>\n",
       "      <td>0.000000</td>\n",
       "      <td>0.000000</td>\n",
       "      <td>18.000000</td>\n",
       "    </tr>\n",
       "    <tr>\n",
       "      <th>25%</th>\n",
       "      <td>538.000000</td>\n",
       "      <td>1.535191e+06</td>\n",
       "      <td>7.919606e+06</td>\n",
       "      <td>-90.278514</td>\n",
       "      <td>1.000000</td>\n",
       "      <td>0.000000</td>\n",
       "      <td>1.529848e+06</td>\n",
       "      <td>7.919276e+06</td>\n",
       "      <td>0.000000</td>\n",
       "      <td>0.000000</td>\n",
       "      <td>0.000000</td>\n",
       "      <td>0.000000</td>\n",
       "      <td>35.000000</td>\n",
       "    </tr>\n",
       "    <tr>\n",
       "      <th>50%</th>\n",
       "      <td>1901.000000</td>\n",
       "      <td>1.895376e+06</td>\n",
       "      <td>8.251327e+06</td>\n",
       "      <td>2.313685</td>\n",
       "      <td>1.000000</td>\n",
       "      <td>0.000000</td>\n",
       "      <td>1.891302e+06</td>\n",
       "      <td>8.251345e+06</td>\n",
       "      <td>0.000000</td>\n",
       "      <td>0.000000</td>\n",
       "      <td>0.000000</td>\n",
       "      <td>0.000000</td>\n",
       "      <td>50.000000</td>\n",
       "    </tr>\n",
       "    <tr>\n",
       "      <th>75%</th>\n",
       "      <td>2821.000000</td>\n",
       "      <td>2.003408e+06</td>\n",
       "      <td>8.368423e+06</td>\n",
       "      <td>95.330994</td>\n",
       "      <td>1.000000</td>\n",
       "      <td>0.000000</td>\n",
       "      <td>2.003743e+06</td>\n",
       "      <td>8.368852e+06</td>\n",
       "      <td>0.000000</td>\n",
       "      <td>0.000000</td>\n",
       "      <td>0.000000</td>\n",
       "      <td>0.000000</td>\n",
       "      <td>66.000000</td>\n",
       "    </tr>\n",
       "    <tr>\n",
       "      <th>max</th>\n",
       "      <td>4150.000000</td>\n",
       "      <td>2.686771e+06</td>\n",
       "      <td>1.040622e+07</td>\n",
       "      <td>179.992043</td>\n",
       "      <td>1.000000</td>\n",
       "      <td>1.000000</td>\n",
       "      <td>2.686256e+06</td>\n",
       "      <td>1.042743e+07</td>\n",
       "      <td>1.000000</td>\n",
       "      <td>1.000000</td>\n",
       "      <td>1.000000</td>\n",
       "      <td>1.000000</td>\n",
       "      <td>88.000000</td>\n",
       "    </tr>\n",
       "  </tbody>\n",
       "</table>\n",
       "</div>"
      ],
      "text/plain": [
       "          near_fid        near_x        near_y   near_angle        heard   \n",
       "count  5710.000000  5.710000e+03  5.710000e+03  5710.000000  5710.000000  \\\n",
       "mean   1888.705954  1.797385e+06  8.283496e+06     1.751993     0.760070   \n",
       "std    1320.046217  2.783430e+05  5.363099e+05   106.216736     0.427078   \n",
       "min       1.000000  1.244070e+06  7.430582e+06  -179.786267     0.000000   \n",
       "25%     538.000000  1.535191e+06  7.919606e+06   -90.278514     1.000000   \n",
       "50%    1901.000000  1.895376e+06  8.251327e+06     2.313685     1.000000   \n",
       "75%    2821.000000  2.003408e+06  8.368423e+06    95.330994     1.000000   \n",
       "max    4150.000000  2.686771e+06  1.040622e+07   179.992043     1.000000   \n",
       "\n",
       "          building         xcoor         ycoor        noise   in_vehicle   \n",
       "count  5710.000000  5.710000e+03  5.710000e+03  5710.000000  5710.000000  \\\n",
       "mean      0.248687  1.796497e+06  8.283723e+06     0.190893     0.094046   \n",
       "std       0.432290  2.789790e+05  5.369782e+05     0.393039     0.291918   \n",
       "min       0.000000  1.244893e+06  7.432236e+06     0.000000     0.000000   \n",
       "25%       0.000000  1.529848e+06  7.919276e+06     0.000000     0.000000   \n",
       "50%       0.000000  1.891302e+06  8.251345e+06     0.000000     0.000000   \n",
       "75%       0.000000  2.003743e+06  8.368852e+06     0.000000     0.000000   \n",
       "max       1.000000  2.686256e+06  1.042743e+07     1.000000     1.000000   \n",
       "\n",
       "            asleep   no_windows          age  \n",
       "count  5710.000000  5710.000000  5710.000000  \n",
       "mean      0.006130     0.023643    50.635902  \n",
       "std       0.078058     0.151947    18.630865  \n",
       "min       0.000000     0.000000    18.000000  \n",
       "25%       0.000000     0.000000    35.000000  \n",
       "50%       0.000000     0.000000    50.000000  \n",
       "75%       0.000000     0.000000    66.000000  \n",
       "max       1.000000     1.000000    88.000000  "
      ]
     },
     "execution_count": 3,
     "metadata": {},
     "output_type": "execute_result"
    }
   ],
   "source": [
    "data.describe()"
   ]
  },
  {
   "cell_type": "markdown",
   "metadata": {},
   "source": [
    "# Create new features - distance, age group and distance group"
   ]
  },
  {
   "cell_type": "markdown",
   "metadata": {},
   "source": [
    "### Create age group"
   ]
  },
  {
   "cell_type": "markdown",
   "metadata": {},
   "source": [
    "#### Created new age buckets based on:\n",
    "https://www.nidcd.nih.gov/health/statistics/hearing-loss-increases-with-age\n",
    "\n",
    "\n",
    "![title](hearing_w_age.png)"
   ]
  },
  {
   "cell_type": "code",
   "execution_count": 4,
   "metadata": {},
   "outputs": [],
   "source": [
    "\n",
    "#original bins\n",
    "#age_bins = [0, 10, 20, 30, 40, 50, 60, 70, 80, 90, 100]\n",
    "#age_labels = ['0-10', '10-20', '20-30', '30-40', '40-50', '50-60', '60-70', '70-80', '80-90', '90-100']\n",
    "\n",
    "# Create age groups column\n",
    "#data['age_group'] = pd.cut(data['age'], bins=age_bins, labels=age_labels, right=False)\n",
    "\n",
    "#new bins based on hearing with age\n",
    "new_age_bins = [0, 40, 50, 60, 70, float('inf')]\n",
    "new_age_labels = ['0-39', '40-49', '50-59', '60-69', '70+']\n",
    "\n",
    "# Create age groups column with new bins\n",
    "data['age_group1'] = pd.cut(data['age'], bins=new_age_bins, labels=new_age_labels, right=False)\n",
    "\n",
    "#new age groups, only three buckets. Does it perform better to have fewer buckets?\n",
    "#create new age_groups--------\n",
    "#new bins based on hearing with age\n",
    "new_age_bins = [0, 30, 60, float('inf')]\n",
    "new_age_labels = ['Young', 'Middle-aged', 'Elderly']\n",
    "\n",
    "# Create age groups column with new bins\n",
    "data['age_group2'] = pd.cut(data['age'], bins=new_age_bins, labels=new_age_labels, right=False)\n",
    "\n",
    "\n",
    "\n",
    "\n"
   ]
  },
  {
   "cell_type": "code",
   "execution_count": 5,
   "metadata": {},
   "outputs": [
    {
     "data": {
      "text/html": [
       "<div>\n",
       "<style scoped>\n",
       "    .dataframe tbody tr th:only-of-type {\n",
       "        vertical-align: middle;\n",
       "    }\n",
       "\n",
       "    .dataframe tbody tr th {\n",
       "        vertical-align: top;\n",
       "    }\n",
       "\n",
       "    .dataframe thead th {\n",
       "        text-align: right;\n",
       "    }\n",
       "</style>\n",
       "<table border=\"1\" class=\"dataframe\">\n",
       "  <thead>\n",
       "    <tr style=\"text-align: right;\">\n",
       "      <th></th>\n",
       "      <th>near_fid</th>\n",
       "      <th>near_x</th>\n",
       "      <th>near_y</th>\n",
       "      <th>near_angle</th>\n",
       "      <th>heard</th>\n",
       "      <th>building</th>\n",
       "      <th>xcoor</th>\n",
       "      <th>ycoor</th>\n",
       "      <th>noise</th>\n",
       "      <th>in_vehicle</th>\n",
       "      <th>asleep</th>\n",
       "      <th>no_windows</th>\n",
       "      <th>age</th>\n",
       "      <th>age_group1</th>\n",
       "      <th>age_group2</th>\n",
       "    </tr>\n",
       "  </thead>\n",
       "  <tbody>\n",
       "    <tr>\n",
       "      <th>0</th>\n",
       "      <td>2712</td>\n",
       "      <td>1.998301e+06</td>\n",
       "      <td>9.011692e+06</td>\n",
       "      <td>-171.588672</td>\n",
       "      <td>1</td>\n",
       "      <td>0</td>\n",
       "      <td>1999193.0</td>\n",
       "      <td>9011824</td>\n",
       "      <td>0</td>\n",
       "      <td>0</td>\n",
       "      <td>0</td>\n",
       "      <td>0</td>\n",
       "      <td>59</td>\n",
       "      <td>50-59</td>\n",
       "      <td>Middle-aged</td>\n",
       "    </tr>\n",
       "    <tr>\n",
       "      <th>1</th>\n",
       "      <td>2721</td>\n",
       "      <td>1.928907e+06</td>\n",
       "      <td>8.954624e+06</td>\n",
       "      <td>-51.208102</td>\n",
       "      <td>1</td>\n",
       "      <td>0</td>\n",
       "      <td>1928298.0</td>\n",
       "      <td>8955382</td>\n",
       "      <td>0</td>\n",
       "      <td>0</td>\n",
       "      <td>0</td>\n",
       "      <td>0</td>\n",
       "      <td>29</td>\n",
       "      <td>0-39</td>\n",
       "      <td>Young</td>\n",
       "    </tr>\n",
       "    <tr>\n",
       "      <th>2</th>\n",
       "      <td>297</td>\n",
       "      <td>2.026384e+06</td>\n",
       "      <td>8.256164e+06</td>\n",
       "      <td>39.018754</td>\n",
       "      <td>1</td>\n",
       "      <td>0</td>\n",
       "      <td>2025706.0</td>\n",
       "      <td>8255615</td>\n",
       "      <td>0</td>\n",
       "      <td>0</td>\n",
       "      <td>0</td>\n",
       "      <td>0</td>\n",
       "      <td>32</td>\n",
       "      <td>0-39</td>\n",
       "      <td>Middle-aged</td>\n",
       "    </tr>\n",
       "    <tr>\n",
       "      <th>3</th>\n",
       "      <td>739</td>\n",
       "      <td>1.743184e+06</td>\n",
       "      <td>8.052652e+06</td>\n",
       "      <td>15.046022</td>\n",
       "      <td>1</td>\n",
       "      <td>0</td>\n",
       "      <td>1742935.0</td>\n",
       "      <td>8052585</td>\n",
       "      <td>0</td>\n",
       "      <td>0</td>\n",
       "      <td>0</td>\n",
       "      <td>0</td>\n",
       "      <td>36</td>\n",
       "      <td>0-39</td>\n",
       "      <td>Middle-aged</td>\n",
       "    </tr>\n",
       "    <tr>\n",
       "      <th>4</th>\n",
       "      <td>1852</td>\n",
       "      <td>1.350375e+06</td>\n",
       "      <td>7.909850e+06</td>\n",
       "      <td>144.603170</td>\n",
       "      <td>1</td>\n",
       "      <td>0</td>\n",
       "      <td>1350807.0</td>\n",
       "      <td>7909543</td>\n",
       "      <td>0</td>\n",
       "      <td>0</td>\n",
       "      <td>0</td>\n",
       "      <td>0</td>\n",
       "      <td>55</td>\n",
       "      <td>50-59</td>\n",
       "      <td>Middle-aged</td>\n",
       "    </tr>\n",
       "    <tr>\n",
       "      <th>...</th>\n",
       "      <td>...</td>\n",
       "      <td>...</td>\n",
       "      <td>...</td>\n",
       "      <td>...</td>\n",
       "      <td>...</td>\n",
       "      <td>...</td>\n",
       "      <td>...</td>\n",
       "      <td>...</td>\n",
       "      <td>...</td>\n",
       "      <td>...</td>\n",
       "      <td>...</td>\n",
       "      <td>...</td>\n",
       "      <td>...</td>\n",
       "      <td>...</td>\n",
       "      <td>...</td>\n",
       "    </tr>\n",
       "    <tr>\n",
       "      <th>5705</th>\n",
       "      <td>5</td>\n",
       "      <td>2.008871e+06</td>\n",
       "      <td>8.255775e+06</td>\n",
       "      <td>-176.234663</td>\n",
       "      <td>1</td>\n",
       "      <td>0</td>\n",
       "      <td>2009140.0</td>\n",
       "      <td>8255793</td>\n",
       "      <td>0</td>\n",
       "      <td>0</td>\n",
       "      <td>0</td>\n",
       "      <td>0</td>\n",
       "      <td>29</td>\n",
       "      <td>0-39</td>\n",
       "      <td>Young</td>\n",
       "    </tr>\n",
       "    <tr>\n",
       "      <th>5706</th>\n",
       "      <td>4069</td>\n",
       "      <td>1.981871e+06</td>\n",
       "      <td>8.270452e+06</td>\n",
       "      <td>45.691415</td>\n",
       "      <td>1</td>\n",
       "      <td>0</td>\n",
       "      <td>1981119.0</td>\n",
       "      <td>8269682</td>\n",
       "      <td>0</td>\n",
       "      <td>0</td>\n",
       "      <td>0</td>\n",
       "      <td>0</td>\n",
       "      <td>49</td>\n",
       "      <td>40-49</td>\n",
       "      <td>Middle-aged</td>\n",
       "    </tr>\n",
       "    <tr>\n",
       "      <th>5707</th>\n",
       "      <td>2170</td>\n",
       "      <td>1.463760e+06</td>\n",
       "      <td>8.074997e+06</td>\n",
       "      <td>-175.473118</td>\n",
       "      <td>1</td>\n",
       "      <td>0</td>\n",
       "      <td>1464308.0</td>\n",
       "      <td>8075040</td>\n",
       "      <td>0</td>\n",
       "      <td>0</td>\n",
       "      <td>0</td>\n",
       "      <td>0</td>\n",
       "      <td>62</td>\n",
       "      <td>60-69</td>\n",
       "      <td>Elderly</td>\n",
       "    </tr>\n",
       "    <tr>\n",
       "      <th>5708</th>\n",
       "      <td>1591</td>\n",
       "      <td>1.479843e+06</td>\n",
       "      <td>7.526377e+06</td>\n",
       "      <td>142.958054</td>\n",
       "      <td>1</td>\n",
       "      <td>0</td>\n",
       "      <td>1480125.0</td>\n",
       "      <td>7526164</td>\n",
       "      <td>0</td>\n",
       "      <td>0</td>\n",
       "      <td>0</td>\n",
       "      <td>0</td>\n",
       "      <td>37</td>\n",
       "      <td>0-39</td>\n",
       "      <td>Middle-aged</td>\n",
       "    </tr>\n",
       "    <tr>\n",
       "      <th>5709</th>\n",
       "      <td>4034</td>\n",
       "      <td>1.995078e+06</td>\n",
       "      <td>8.280029e+06</td>\n",
       "      <td>-61.591457</td>\n",
       "      <td>1</td>\n",
       "      <td>1</td>\n",
       "      <td>1994495.0</td>\n",
       "      <td>8281108</td>\n",
       "      <td>0</td>\n",
       "      <td>0</td>\n",
       "      <td>0</td>\n",
       "      <td>0</td>\n",
       "      <td>33</td>\n",
       "      <td>0-39</td>\n",
       "      <td>Middle-aged</td>\n",
       "    </tr>\n",
       "  </tbody>\n",
       "</table>\n",
       "<p>5710 rows × 15 columns</p>\n",
       "</div>"
      ],
      "text/plain": [
       "      near_fid        near_x        near_y  near_angle  heard  building   \n",
       "0         2712  1.998301e+06  9.011692e+06 -171.588672      1         0  \\\n",
       "1         2721  1.928907e+06  8.954624e+06  -51.208102      1         0   \n",
       "2          297  2.026384e+06  8.256164e+06   39.018754      1         0   \n",
       "3          739  1.743184e+06  8.052652e+06   15.046022      1         0   \n",
       "4         1852  1.350375e+06  7.909850e+06  144.603170      1         0   \n",
       "...        ...           ...           ...         ...    ...       ...   \n",
       "5705         5  2.008871e+06  8.255775e+06 -176.234663      1         0   \n",
       "5706      4069  1.981871e+06  8.270452e+06   45.691415      1         0   \n",
       "5707      2170  1.463760e+06  8.074997e+06 -175.473118      1         0   \n",
       "5708      1591  1.479843e+06  7.526377e+06  142.958054      1         0   \n",
       "5709      4034  1.995078e+06  8.280029e+06  -61.591457      1         1   \n",
       "\n",
       "          xcoor    ycoor  noise  in_vehicle  asleep  no_windows  age   \n",
       "0     1999193.0  9011824      0           0       0           0   59  \\\n",
       "1     1928298.0  8955382      0           0       0           0   29   \n",
       "2     2025706.0  8255615      0           0       0           0   32   \n",
       "3     1742935.0  8052585      0           0       0           0   36   \n",
       "4     1350807.0  7909543      0           0       0           0   55   \n",
       "...         ...      ...    ...         ...     ...         ...  ...   \n",
       "5705  2009140.0  8255793      0           0       0           0   29   \n",
       "5706  1981119.0  8269682      0           0       0           0   49   \n",
       "5707  1464308.0  8075040      0           0       0           0   62   \n",
       "5708  1480125.0  7526164      0           0       0           0   37   \n",
       "5709  1994495.0  8281108      0           0       0           0   33   \n",
       "\n",
       "     age_group1   age_group2  \n",
       "0         50-59  Middle-aged  \n",
       "1          0-39        Young  \n",
       "2          0-39  Middle-aged  \n",
       "3          0-39  Middle-aged  \n",
       "4         50-59  Middle-aged  \n",
       "...         ...          ...  \n",
       "5705       0-39        Young  \n",
       "5706      40-49  Middle-aged  \n",
       "5707      60-69      Elderly  \n",
       "5708       0-39  Middle-aged  \n",
       "5709       0-39  Middle-aged  \n",
       "\n",
       "[5710 rows x 15 columns]"
      ]
     },
     "execution_count": 5,
     "metadata": {},
     "output_type": "execute_result"
    }
   ],
   "source": [
    "data"
   ]
  },
  {
   "cell_type": "markdown",
   "metadata": {},
   "source": [
    "### Create distance"
   ]
  },
  {
   "cell_type": "code",
   "execution_count": 6,
   "metadata": {},
   "outputs": [],
   "source": [
    "#add distance to horn\n",
    "# Calculate Euclidean distance between person and nearest horn\n",
    "data['dist'] = np.sqrt((data['xcoor'] - data['near_x'])**2 + (data['ycoor'] - data['near_y'])**2)\n"
   ]
  },
  {
   "cell_type": "markdown",
   "metadata": {},
   "source": [
    "### Create distance group"
   ]
  },
  {
   "cell_type": "code",
   "execution_count": 7,
   "metadata": {},
   "outputs": [],
   "source": [
    "\n",
    "# Add distance groups\n",
    "# Create bins for distance ranging from 0 to 3000 with a step size of 100\n",
    "step_size = 500\n",
    "distance_bins = np.arange(0, 3100, step_size)\n",
    "\n",
    "# Create labels for distance bins\n",
    "distance_labels = [f'{i}-{i+step_size}' for i in range(0, 3000, step_size)]\n",
    "# Append a bin edge for values greater than 3000\n",
    "distance_bins = np.append(distance_bins, np.inf)\n",
    "distance_labels.append('>3000')\n",
    "\n",
    "# Assign each distance value to a corresponding bin\n",
    "data['distance_groups'] = pd.cut(data['dist'], bins=distance_bins, labels=distance_labels, right=False)"
   ]
  },
  {
   "cell_type": "code",
   "execution_count": 8,
   "metadata": {},
   "outputs": [],
   "source": [
    "## Create new combined features of noise and in_vehicle"
   ]
  },
  {
   "cell_type": "code",
   "execution_count": 9,
   "metadata": {},
   "outputs": [],
   "source": [
    "# Create new combined features of noise and in_vehicle\n",
    "# Assuming 'data' is your DataFrame containing the 'noise' and 'in_vehicle' features\n",
    "data['noise_in_vehicle'] = ((data['noise'] == 1) & (data['in_vehicle'] == 1)).astype(int)\n",
    "data['noise_not_in_vehicle'] = ((data['noise'] == 1) & (data['in_vehicle'] == 0)).astype(int)\n",
    "data['not_noise_in_vehicle'] = ((data['noise'] == 0) & (data['in_vehicle'] == 1)).astype(int)\n",
    "data['not_noise_not_in_vehicle'] = ((data['noise'] == 0) & (data['in_vehicle'] == 0)).astype(int)\n"
   ]
  },
  {
   "cell_type": "markdown",
   "metadata": {},
   "source": [
    "### Check data"
   ]
  },
  {
   "cell_type": "code",
   "execution_count": 10,
   "metadata": {},
   "outputs": [
    {
     "data": {
      "text/html": [
       "<div>\n",
       "<style scoped>\n",
       "    .dataframe tbody tr th:only-of-type {\n",
       "        vertical-align: middle;\n",
       "    }\n",
       "\n",
       "    .dataframe tbody tr th {\n",
       "        vertical-align: top;\n",
       "    }\n",
       "\n",
       "    .dataframe thead th {\n",
       "        text-align: right;\n",
       "    }\n",
       "</style>\n",
       "<table border=\"1\" class=\"dataframe\">\n",
       "  <thead>\n",
       "    <tr style=\"text-align: right;\">\n",
       "      <th></th>\n",
       "      <th>near_fid</th>\n",
       "      <th>near_x</th>\n",
       "      <th>near_y</th>\n",
       "      <th>near_angle</th>\n",
       "      <th>heard</th>\n",
       "      <th>building</th>\n",
       "      <th>xcoor</th>\n",
       "      <th>ycoor</th>\n",
       "      <th>noise</th>\n",
       "      <th>in_vehicle</th>\n",
       "      <th>...</th>\n",
       "      <th>no_windows</th>\n",
       "      <th>age</th>\n",
       "      <th>age_group1</th>\n",
       "      <th>age_group2</th>\n",
       "      <th>dist</th>\n",
       "      <th>distance_groups</th>\n",
       "      <th>noise_in_vehicle</th>\n",
       "      <th>noise_not_in_vehicle</th>\n",
       "      <th>not_noise_in_vehicle</th>\n",
       "      <th>not_noise_not_in_vehicle</th>\n",
       "    </tr>\n",
       "  </thead>\n",
       "  <tbody>\n",
       "    <tr>\n",
       "      <th>0</th>\n",
       "      <td>2712</td>\n",
       "      <td>1.998301e+06</td>\n",
       "      <td>9.011692e+06</td>\n",
       "      <td>-171.588672</td>\n",
       "      <td>1</td>\n",
       "      <td>0</td>\n",
       "      <td>1999193.0</td>\n",
       "      <td>9011824</td>\n",
       "      <td>0</td>\n",
       "      <td>0</td>\n",
       "      <td>...</td>\n",
       "      <td>0</td>\n",
       "      <td>59</td>\n",
       "      <td>50-59</td>\n",
       "      <td>Middle-aged</td>\n",
       "      <td>901.283517</td>\n",
       "      <td>500-1000</td>\n",
       "      <td>0</td>\n",
       "      <td>0</td>\n",
       "      <td>0</td>\n",
       "      <td>1</td>\n",
       "    </tr>\n",
       "    <tr>\n",
       "      <th>1</th>\n",
       "      <td>2721</td>\n",
       "      <td>1.928907e+06</td>\n",
       "      <td>8.954624e+06</td>\n",
       "      <td>-51.208102</td>\n",
       "      <td>1</td>\n",
       "      <td>0</td>\n",
       "      <td>1928298.0</td>\n",
       "      <td>8955382</td>\n",
       "      <td>0</td>\n",
       "      <td>0</td>\n",
       "      <td>...</td>\n",
       "      <td>0</td>\n",
       "      <td>29</td>\n",
       "      <td>0-39</td>\n",
       "      <td>Young</td>\n",
       "      <td>972.006260</td>\n",
       "      <td>500-1000</td>\n",
       "      <td>0</td>\n",
       "      <td>0</td>\n",
       "      <td>0</td>\n",
       "      <td>1</td>\n",
       "    </tr>\n",
       "    <tr>\n",
       "      <th>2</th>\n",
       "      <td>297</td>\n",
       "      <td>2.026384e+06</td>\n",
       "      <td>8.256164e+06</td>\n",
       "      <td>39.018754</td>\n",
       "      <td>1</td>\n",
       "      <td>0</td>\n",
       "      <td>2025706.0</td>\n",
       "      <td>8255615</td>\n",
       "      <td>0</td>\n",
       "      <td>0</td>\n",
       "      <td>...</td>\n",
       "      <td>0</td>\n",
       "      <td>32</td>\n",
       "      <td>0-39</td>\n",
       "      <td>Middle-aged</td>\n",
       "      <td>872.340924</td>\n",
       "      <td>500-1000</td>\n",
       "      <td>0</td>\n",
       "      <td>0</td>\n",
       "      <td>0</td>\n",
       "      <td>1</td>\n",
       "    </tr>\n",
       "    <tr>\n",
       "      <th>3</th>\n",
       "      <td>739</td>\n",
       "      <td>1.743184e+06</td>\n",
       "      <td>8.052652e+06</td>\n",
       "      <td>15.046022</td>\n",
       "      <td>1</td>\n",
       "      <td>0</td>\n",
       "      <td>1742935.0</td>\n",
       "      <td>8052585</td>\n",
       "      <td>0</td>\n",
       "      <td>0</td>\n",
       "      <td>...</td>\n",
       "      <td>0</td>\n",
       "      <td>36</td>\n",
       "      <td>0-39</td>\n",
       "      <td>Middle-aged</td>\n",
       "      <td>257.804449</td>\n",
       "      <td>0-500</td>\n",
       "      <td>0</td>\n",
       "      <td>0</td>\n",
       "      <td>0</td>\n",
       "      <td>1</td>\n",
       "    </tr>\n",
       "    <tr>\n",
       "      <th>4</th>\n",
       "      <td>1852</td>\n",
       "      <td>1.350375e+06</td>\n",
       "      <td>7.909850e+06</td>\n",
       "      <td>144.603170</td>\n",
       "      <td>1</td>\n",
       "      <td>0</td>\n",
       "      <td>1350807.0</td>\n",
       "      <td>7909543</td>\n",
       "      <td>0</td>\n",
       "      <td>0</td>\n",
       "      <td>...</td>\n",
       "      <td>0</td>\n",
       "      <td>55</td>\n",
       "      <td>50-59</td>\n",
       "      <td>Middle-aged</td>\n",
       "      <td>529.686791</td>\n",
       "      <td>500-1000</td>\n",
       "      <td>0</td>\n",
       "      <td>0</td>\n",
       "      <td>0</td>\n",
       "      <td>1</td>\n",
       "    </tr>\n",
       "  </tbody>\n",
       "</table>\n",
       "<p>5 rows × 21 columns</p>\n",
       "</div>"
      ],
      "text/plain": [
       "   near_fid        near_x        near_y  near_angle  heard  building   \n",
       "0      2712  1.998301e+06  9.011692e+06 -171.588672      1         0  \\\n",
       "1      2721  1.928907e+06  8.954624e+06  -51.208102      1         0   \n",
       "2       297  2.026384e+06  8.256164e+06   39.018754      1         0   \n",
       "3       739  1.743184e+06  8.052652e+06   15.046022      1         0   \n",
       "4      1852  1.350375e+06  7.909850e+06  144.603170      1         0   \n",
       "\n",
       "       xcoor    ycoor  noise  in_vehicle  ...  no_windows  age  age_group1   \n",
       "0  1999193.0  9011824      0           0  ...           0   59       50-59  \\\n",
       "1  1928298.0  8955382      0           0  ...           0   29        0-39   \n",
       "2  2025706.0  8255615      0           0  ...           0   32        0-39   \n",
       "3  1742935.0  8052585      0           0  ...           0   36        0-39   \n",
       "4  1350807.0  7909543      0           0  ...           0   55       50-59   \n",
       "\n",
       "    age_group2        dist  distance_groups noise_in_vehicle   \n",
       "0  Middle-aged  901.283517         500-1000                0  \\\n",
       "1        Young  972.006260         500-1000                0   \n",
       "2  Middle-aged  872.340924         500-1000                0   \n",
       "3  Middle-aged  257.804449            0-500                0   \n",
       "4  Middle-aged  529.686791         500-1000                0   \n",
       "\n",
       "   noise_not_in_vehicle  not_noise_in_vehicle  not_noise_not_in_vehicle  \n",
       "0                     0                     0                         1  \n",
       "1                     0                     0                         1  \n",
       "2                     0                     0                         1  \n",
       "3                     0                     0                         1  \n",
       "4                     0                     0                         1  \n",
       "\n",
       "[5 rows x 21 columns]"
      ]
     },
     "execution_count": 10,
     "metadata": {},
     "output_type": "execute_result"
    }
   ],
   "source": [
    "data.head()"
   ]
  },
  {
   "cell_type": "markdown",
   "metadata": {},
   "source": [
    "# Generate dummies for newly created categorical data but keep original columns for the plots later"
   ]
  },
  {
   "cell_type": "code",
   "execution_count": 11,
   "metadata": {},
   "outputs": [],
   "source": [
    "dummies = pd.get_dummies(data, columns=[\"age_group1\", \"age_group2\", \"distance_groups\"])\n",
    "keep_these_original_columns_for_plots = data[[\"distance_groups\", \"age_group1\"]]\n",
    "data = pd.concat([keep_these_original_columns_for_plots, dummies], axis=1)\n",
    "data_copy = data.copy()\n"
   ]
  },
  {
   "cell_type": "code",
   "execution_count": 12,
   "metadata": {},
   "outputs": [
    {
     "data": {
      "text/html": [
       "<div>\n",
       "<style scoped>\n",
       "    .dataframe tbody tr th:only-of-type {\n",
       "        vertical-align: middle;\n",
       "    }\n",
       "\n",
       "    .dataframe tbody tr th {\n",
       "        vertical-align: top;\n",
       "    }\n",
       "\n",
       "    .dataframe thead th {\n",
       "        text-align: right;\n",
       "    }\n",
       "</style>\n",
       "<table border=\"1\" class=\"dataframe\">\n",
       "  <thead>\n",
       "    <tr style=\"text-align: right;\">\n",
       "      <th></th>\n",
       "      <th>distance_groups</th>\n",
       "      <th>age_group1</th>\n",
       "      <th>near_fid</th>\n",
       "      <th>near_x</th>\n",
       "      <th>near_y</th>\n",
       "      <th>near_angle</th>\n",
       "      <th>heard</th>\n",
       "      <th>building</th>\n",
       "      <th>xcoor</th>\n",
       "      <th>ycoor</th>\n",
       "      <th>...</th>\n",
       "      <th>age_group2_Young</th>\n",
       "      <th>age_group2_Middle-aged</th>\n",
       "      <th>age_group2_Elderly</th>\n",
       "      <th>distance_groups_0-500</th>\n",
       "      <th>distance_groups_500-1000</th>\n",
       "      <th>distance_groups_1000-1500</th>\n",
       "      <th>distance_groups_1500-2000</th>\n",
       "      <th>distance_groups_2000-2500</th>\n",
       "      <th>distance_groups_2500-3000</th>\n",
       "      <th>distance_groups_&gt;3000</th>\n",
       "    </tr>\n",
       "  </thead>\n",
       "  <tbody>\n",
       "    <tr>\n",
       "      <th>0</th>\n",
       "      <td>500-1000</td>\n",
       "      <td>50-59</td>\n",
       "      <td>2712</td>\n",
       "      <td>1.998301e+06</td>\n",
       "      <td>9.011692e+06</td>\n",
       "      <td>-171.588672</td>\n",
       "      <td>1</td>\n",
       "      <td>0</td>\n",
       "      <td>1999193.0</td>\n",
       "      <td>9011824</td>\n",
       "      <td>...</td>\n",
       "      <td>False</td>\n",
       "      <td>True</td>\n",
       "      <td>False</td>\n",
       "      <td>False</td>\n",
       "      <td>True</td>\n",
       "      <td>False</td>\n",
       "      <td>False</td>\n",
       "      <td>False</td>\n",
       "      <td>False</td>\n",
       "      <td>False</td>\n",
       "    </tr>\n",
       "    <tr>\n",
       "      <th>1</th>\n",
       "      <td>500-1000</td>\n",
       "      <td>0-39</td>\n",
       "      <td>2721</td>\n",
       "      <td>1.928907e+06</td>\n",
       "      <td>8.954624e+06</td>\n",
       "      <td>-51.208102</td>\n",
       "      <td>1</td>\n",
       "      <td>0</td>\n",
       "      <td>1928298.0</td>\n",
       "      <td>8955382</td>\n",
       "      <td>...</td>\n",
       "      <td>True</td>\n",
       "      <td>False</td>\n",
       "      <td>False</td>\n",
       "      <td>False</td>\n",
       "      <td>True</td>\n",
       "      <td>False</td>\n",
       "      <td>False</td>\n",
       "      <td>False</td>\n",
       "      <td>False</td>\n",
       "      <td>False</td>\n",
       "    </tr>\n",
       "    <tr>\n",
       "      <th>2</th>\n",
       "      <td>500-1000</td>\n",
       "      <td>0-39</td>\n",
       "      <td>297</td>\n",
       "      <td>2.026384e+06</td>\n",
       "      <td>8.256164e+06</td>\n",
       "      <td>39.018754</td>\n",
       "      <td>1</td>\n",
       "      <td>0</td>\n",
       "      <td>2025706.0</td>\n",
       "      <td>8255615</td>\n",
       "      <td>...</td>\n",
       "      <td>False</td>\n",
       "      <td>True</td>\n",
       "      <td>False</td>\n",
       "      <td>False</td>\n",
       "      <td>True</td>\n",
       "      <td>False</td>\n",
       "      <td>False</td>\n",
       "      <td>False</td>\n",
       "      <td>False</td>\n",
       "      <td>False</td>\n",
       "    </tr>\n",
       "    <tr>\n",
       "      <th>3</th>\n",
       "      <td>0-500</td>\n",
       "      <td>0-39</td>\n",
       "      <td>739</td>\n",
       "      <td>1.743184e+06</td>\n",
       "      <td>8.052652e+06</td>\n",
       "      <td>15.046022</td>\n",
       "      <td>1</td>\n",
       "      <td>0</td>\n",
       "      <td>1742935.0</td>\n",
       "      <td>8052585</td>\n",
       "      <td>...</td>\n",
       "      <td>False</td>\n",
       "      <td>True</td>\n",
       "      <td>False</td>\n",
       "      <td>True</td>\n",
       "      <td>False</td>\n",
       "      <td>False</td>\n",
       "      <td>False</td>\n",
       "      <td>False</td>\n",
       "      <td>False</td>\n",
       "      <td>False</td>\n",
       "    </tr>\n",
       "    <tr>\n",
       "      <th>4</th>\n",
       "      <td>500-1000</td>\n",
       "      <td>50-59</td>\n",
       "      <td>1852</td>\n",
       "      <td>1.350375e+06</td>\n",
       "      <td>7.909850e+06</td>\n",
       "      <td>144.603170</td>\n",
       "      <td>1</td>\n",
       "      <td>0</td>\n",
       "      <td>1350807.0</td>\n",
       "      <td>7909543</td>\n",
       "      <td>...</td>\n",
       "      <td>False</td>\n",
       "      <td>True</td>\n",
       "      <td>False</td>\n",
       "      <td>False</td>\n",
       "      <td>True</td>\n",
       "      <td>False</td>\n",
       "      <td>False</td>\n",
       "      <td>False</td>\n",
       "      <td>False</td>\n",
       "      <td>False</td>\n",
       "    </tr>\n",
       "  </tbody>\n",
       "</table>\n",
       "<p>5 rows × 35 columns</p>\n",
       "</div>"
      ],
      "text/plain": [
       "  distance_groups age_group1  near_fid        near_x        near_y   \n",
       "0        500-1000      50-59      2712  1.998301e+06  9.011692e+06  \\\n",
       "1        500-1000       0-39      2721  1.928907e+06  8.954624e+06   \n",
       "2        500-1000       0-39       297  2.026384e+06  8.256164e+06   \n",
       "3           0-500       0-39       739  1.743184e+06  8.052652e+06   \n",
       "4        500-1000      50-59      1852  1.350375e+06  7.909850e+06   \n",
       "\n",
       "   near_angle  heard  building      xcoor    ycoor  ...  age_group2_Young   \n",
       "0 -171.588672      1         0  1999193.0  9011824  ...             False  \\\n",
       "1  -51.208102      1         0  1928298.0  8955382  ...              True   \n",
       "2   39.018754      1         0  2025706.0  8255615  ...             False   \n",
       "3   15.046022      1         0  1742935.0  8052585  ...             False   \n",
       "4  144.603170      1         0  1350807.0  7909543  ...             False   \n",
       "\n",
       "   age_group2_Middle-aged  age_group2_Elderly  distance_groups_0-500   \n",
       "0                    True               False                  False  \\\n",
       "1                   False               False                  False   \n",
       "2                    True               False                  False   \n",
       "3                    True               False                   True   \n",
       "4                    True               False                  False   \n",
       "\n",
       "   distance_groups_500-1000  distance_groups_1000-1500   \n",
       "0                      True                      False  \\\n",
       "1                      True                      False   \n",
       "2                      True                      False   \n",
       "3                     False                      False   \n",
       "4                      True                      False   \n",
       "\n",
       "   distance_groups_1500-2000  distance_groups_2000-2500   \n",
       "0                      False                      False  \\\n",
       "1                      False                      False   \n",
       "2                      False                      False   \n",
       "3                      False                      False   \n",
       "4                      False                      False   \n",
       "\n",
       "   distance_groups_2500-3000  distance_groups_>3000  \n",
       "0                      False                  False  \n",
       "1                      False                  False  \n",
       "2                      False                  False  \n",
       "3                      False                  False  \n",
       "4                      False                  False  \n",
       "\n",
       "[5 rows x 35 columns]"
      ]
     },
     "execution_count": 12,
     "metadata": {},
     "output_type": "execute_result"
    }
   ],
   "source": [
    "data.head()"
   ]
  },
  {
   "cell_type": "markdown",
   "metadata": {},
   "source": [
    "# Generating samples"
   ]
  },
  {
   "cell_type": "code",
   "execution_count": 13,
   "metadata": {},
   "outputs": [],
   "source": [
    "#random sampling\n",
    "def split_train_test(data, test_ratio, random_state): \n",
    "    shuffled_indices = np.random.permutation(len(data)) if random_state is None else np.random.RandomState(random_state).permutation(len(data))\n",
    "    test_set_size = int(len(data) * test_ratio)\n",
    "    test_indices = shuffled_indices[:test_set_size]\n",
    "    train_indices = shuffled_indices[test_set_size:]\n",
    "    return data.iloc[train_indices], data.iloc[test_indices]\n",
    "\n",
    "#stratified sampling, where we create a sample that takes the distribution of age into account\n",
    "def stratified_sampling(data, test_ratio, important_data_column):\n",
    "    split = StratifiedShuffleSplit(n_splits=1, test_size = test_ratio, random_state=42)\n",
    "    for train_index, test_index in split.split(data, important_data_column):\n",
    "        strat_train_set = data.loc[train_index]\n",
    "        strat_test_set = data.loc[test_index]\n",
    "    return strat_train_set, strat_test_set\n",
    "\n",
    "\n",
    "#create samples\n",
    "#train, test = stratified_sampling(data, 0.2, data[\"age\"])\n",
    "train, test = split_train_test(data, 0.2, random_state=42)\n",
    "\n",
    "#print(len(test_set))\n",
    "#print(len(train_set))"
   ]
  },
  {
   "cell_type": "markdown",
   "metadata": {},
   "source": [
    "# Set X_train, X_test, y_train and y_test"
   ]
  },
  {
   "cell_type": "code",
   "execution_count": 14,
   "metadata": {},
   "outputs": [],
   "source": [
    "#drop categorical values \n",
    "train = train.drop(columns=[\"distance_groups\", \"age_group1\"], axis=1)\n",
    "test = test.drop(columns=[\"distance_groups\", \"age_group1\"], axis=1)"
   ]
  },
  {
   "cell_type": "code",
   "execution_count": 15,
   "metadata": {},
   "outputs": [],
   "source": [
    "#right now we have all features, pls change\n",
    "\n",
    "X_train = train.drop(columns=['heard'])\n",
    "y_train = train['heard']\n",
    "\n",
    "# Extract features and target for testing set\n",
    "X_test = test.drop(columns=['heard'])\n",
    "y_test = test['heard']\n"
   ]
  },
  {
   "cell_type": "markdown",
   "metadata": {},
   "source": [
    "# (i) Does the distance to the nearest horn affect whether a person hears the siren or not?"
   ]
  },
  {
   "cell_type": "code",
   "execution_count": 16,
   "metadata": {},
   "outputs": [
    {
     "data": {
      "text/plain": [
       "Index(['distance_groups', 'age_group1', 'near_fid', 'near_x', 'near_y',\n",
       "       'near_angle', 'heard', 'building', 'xcoor', 'ycoor', 'noise',\n",
       "       'in_vehicle', 'asleep', 'no_windows', 'age', 'dist', 'noise_in_vehicle',\n",
       "       'noise_not_in_vehicle', 'not_noise_in_vehicle',\n",
       "       'not_noise_not_in_vehicle', 'age_group1_0-39', 'age_group1_40-49',\n",
       "       'age_group1_50-59', 'age_group1_60-69', 'age_group1_70+',\n",
       "       'age_group2_Young', 'age_group2_Middle-aged', 'age_group2_Elderly',\n",
       "       'distance_groups_0-500', 'distance_groups_500-1000',\n",
       "       'distance_groups_1000-1500', 'distance_groups_1500-2000',\n",
       "       'distance_groups_2000-2500', 'distance_groups_2500-3000',\n",
       "       'distance_groups_>3000'],\n",
       "      dtype='object')"
      ]
     },
     "execution_count": 16,
     "metadata": {},
     "output_type": "execute_result"
    }
   ],
   "source": [
    "data.columns"
   ]
  },
  {
   "cell_type": "code",
   "execution_count": 17,
   "metadata": {},
   "outputs": [
    {
     "data": {
      "image/png": "[encoded data removed]",
      "text/plain": [
       "<Figure size 432x288 with 1 Axes>"
      ]
     },
     "metadata": {
      "needs_background": "light"
     },
     "output_type": "display_data"
    }
   ],
   "source": [
    "#Comparing distance and heard\n",
    "\n",
    "#temp_data = data_copy\n",
    "\n",
    "# Create stacked bar chart\n",
    "pd.crosstab(data['distance_groups'], data['heard']).plot.bar(stacked=True)\n",
    "plt.xlabel('Distance to Horn')\n",
    "plt.ylabel('Count')\n",
    "plt.title('Relationship between Distance to Horn and \"Heard\"')\n",
    "plt.legend(title='Heard')\n",
    "plt.show()"
   ]
  },
  {
   "cell_type": "code",
   "execution_count": 18,
   "metadata": {},
   "outputs": [
    {
     "data": {
      "text/plain": [
       "Text(0, 0.5, 'The procent hearing (%)')"
      ]
     },
     "execution_count": 18,
     "metadata": {},
     "output_type": "execute_result"
    },
    {
     "data": {
      "image/png": "[encoded data removed]",
      "text/plain": [
       "<Figure size 432x288 with 1 Axes>"
      ]
     },
     "metadata": {
      "needs_background": "light"
     },
     "output_type": "display_data"
    }
   ],
   "source": [
    "dist_num = data.pivot_table(index = ['distance_groups'], columns= 'heard', aggfunc='size')\n",
    "\n",
    "dist_num[1] = dist_num[1].fillna(0)\n",
    "dist_num[0] = dist_num[0].fillna(0)\n",
    "dist_num_1 = np.array(dist_num[1])\n",
    "dist_num_0 = np.array(dist_num[0])\n",
    "\n",
    "dist_procent = (dist_num_1)/(dist_num_1+dist_num_0)*100\n",
    "\n",
    "index_dist = np.array(dist_num.index)\n",
    "\n",
    "\n",
    "plt.plot(index_dist, dist_procent)\n",
    "plt.xlabel('Distance ()')\n",
    "plt.title(\"Distance to horn and % who heard it from that distance\")\n",
    "plt.xticks(rotation=45)\n",
    "plt.ylabel('The procent hearing (%)')"
   ]
  },
  {
   "cell_type": "markdown",
   "metadata": {},
   "source": [
    "#### Is there a statistical difference between those that heard the signal and those that didn't given the distance?"
   ]
  },
  {
   "cell_type": "code",
   "execution_count": 19,
   "metadata": {},
   "outputs": [
    {
     "name": "stdout",
     "output_type": "stream",
     "text": [
      "There is a statistically significant difference in the distributions.\n"
     ]
    }
   ],
   "source": [
    "from scipy import stats\n",
    "\n",
    "# Split data into two groups based on 'heard' column\n",
    "heard_group = data[data['heard'] == 1]['dist']\n",
    "not_heard_group = data[data['heard'] == 0]['dist']\n",
    "\n",
    "\n",
    "# Visualize distributions (optional)\n",
    "# Example: sns.histplot(heard_group, label='Heard')\n",
    "# Example: sns.histplot(not_heard_group, label='Not Heard')\n",
    "# Add legend, labels, and titles as necessary\n",
    "\n",
    "# Perform t-test\n",
    "t_statistic, p_value = stats.ttest_ind(heard_group, not_heard_group)\n",
    "\n",
    "# Interpret results\n",
    "alpha = 0.05\n",
    "if p_value < alpha:\n",
    "    print(\"There is a statistically significant difference in the distributions.\")\n",
    "else:\n",
    "    print(\"There is no statistically significant difference in the distributions.\")\n"
   ]
  },
  {
   "cell_type": "markdown",
   "metadata": {},
   "source": [
    "# (ii) Are the people who hear the siren younger than the people who do not hear it?"
   ]
  },
  {
   "cell_type": "code",
   "execution_count": 20,
   "metadata": {},
   "outputs": [
    {
     "data": {
      "image/png": "[encoded data removed]",
      "text/plain": [
       "<Figure size 432x288 with 1 Axes>"
      ]
     },
     "metadata": {
      "needs_background": "light"
     },
     "output_type": "display_data"
    }
   ],
   "source": [
    "\n",
    "#Comparing age and heard\n",
    "\n",
    "# Create stacked bar chart\n",
    "pd.crosstab(data['age_group1'], data['heard']).plot.bar(stacked=True)\n",
    "plt.xlabel('Age Group')\n",
    "plt.ylabel('Count')\n",
    "plt.title('Relationship between Age Groups and \"Heard\"')\n",
    "plt.legend(title='Heard')\n",
    "plt.show()"
   ]
  },
  {
   "cell_type": "code",
   "execution_count": 21,
   "metadata": {},
   "outputs": [
    {
     "data": {
      "text/plain": [
       "Text(0, 0.5, 'The procent hearing (%)')"
      ]
     },
     "execution_count": 21,
     "metadata": {},
     "output_type": "execute_result"
    },
    {
     "data": {
      "image/png": "[encoded data removed]",
      "text/plain": [
       "<Figure size 432x288 with 1 Axes>"
      ]
     },
     "metadata": {
      "needs_background": "light"
     },
     "output_type": "display_data"
    }
   ],
   "source": [
    "#The relationship between age and hearing\n",
    "age_num = data_copy.pivot_table(index = ['age'], columns= 'heard', aggfunc='size')\n",
    "\n",
    "age_num[1] = age_num[1].fillna(0)\n",
    "age_num[0] = age_num[0].fillna(0)\n",
    "age_num_1 = np.array(age_num[1])\n",
    "age_num_0 = np.array(age_num[0])\n",
    "\n",
    "age_procent = (age_num_1)/(age_num_1+age_num_0)*100 #procent som hör per åldersgrupp\n",
    "\n",
    "index_age = np.array(age_num.index)\n",
    "\n",
    "plt.plot(index_age, age_procent)\n",
    "plt.xlabel('age (years)')\n",
    "plt.ylabel('The procent hearing (%)')\n",
    "\n"
   ]
  },
  {
   "cell_type": "markdown",
   "metadata": {},
   "source": [
    "# (iii) Does the direction towards the nearest horn affect whether a person hears the siren or not?"
   ]
  },
  {
   "cell_type": "code",
   "execution_count": 22,
   "metadata": {
    "scrolled": true
   },
   "outputs": [
    {
     "data": {
      "text/plain": [
       "Text(0, 0.5, 'The procent hearing (%)')"
      ]
     },
     "execution_count": 22,
     "metadata": {},
     "output_type": "execute_result"
    },
    {
     "data": {
      "image/png": "[encoded data removed]",
      "text/plain": [
       "<Figure size 432x288 with 1 Axes>"
      ]
     },
     "metadata": {
      "needs_background": "light"
     },
     "output_type": "display_data"
    }
   ],
   "source": [
    "# Create bins for angle ranging from 0 to 2000 with a step size of 100\n",
    "angle_bins = np.arange(0, 181, 12)\n",
    "\n",
    "# Create labels for angle bins\n",
    "angle_labels = [f'{i}-{i+15}' for i in range(0, 180, 12)]\n",
    "\n",
    "# Assign each angle value to a corresponding bin\n",
    "data['ange_span'] = pd.cut(data['near_angle'], bins=angle_bins, labels=angle_labels, right=False)\n",
    "\n",
    "angle_num = data.pivot_table(index = ['ange_span'], columns= 'heard', aggfunc='size')\n",
    "\n",
    "angle_num_1 = np.array(angle_num[1])\n",
    "angle_num_0 = np.array(angle_num[0])\n",
    "\n",
    "angle_procent = (angle_num_1 )/(angle_num_1 +angle_num_0)*100 #procent som hör\n",
    "\n",
    "index_angle = np.array(angle_num.index)\n",
    "\n",
    "plt.plot(index_angle, angle_procent)\n",
    "plt.xlabel('')\n",
    "plt.ylabel('The procent hearing (%)')\n"
   ]
  },
  {
   "cell_type": "markdown",
   "metadata": {},
   "source": [
    "# Naive model to benchmark model performance to"
   ]
  },
  {
   "cell_type": "code",
   "execution_count": 23,
   "metadata": {},
   "outputs": [
    {
     "name": "stdout",
     "output_type": "stream",
     "text": [
      "Examples of predicted probabilities for the above classes: \n",
      "[1 1 1 1 1]\n",
      "Five first predictions: \n",
      "[1 1 1 1 1] \n",
      "\n",
      "Confusion matrix: \n",
      "\n",
      "heard    0    1\n",
      "row_0          \n",
      "1      290  852 \n",
      "\n",
      "Accuracy: 0.746\n"
     ]
    }
   ],
   "source": [
    "naive_predictions = np.ones_like(y_test)\n",
    "\n",
    "print(\"Examples of predicted probabilities for the above classes: \")\n",
    "with np.printoptions(suppress=True, precision=6):\n",
    "    print(naive_predictions[0:5])\n",
    "\n",
    "prediction_qda = np.empty(len(X_test), dtype=object)\n",
    "prediction_qda = np.where(naive_predictions >= 0.5, 0, 1) #0 is not heard, 1 is heard\n",
    "print(\"Five first predictions: \")\n",
    "print(naive_predictions[0:5], \"\\n\")\n",
    "\n",
    "\n",
    "# Confusion matrix\n",
    "print(\"Confusion matrix: \\n\")\n",
    "print(pd.crosstab(naive_predictions, y_test), \"\\n\")\n",
    "\n",
    "#Accuracy\n",
    "print(f\"Accuracy: {np.mean(naive_predictions == y_test):.3f}\")"
   ]
  },
  {
   "cell_type": "markdown",
   "metadata": {},
   "source": [
    "# Random Forest"
   ]
  },
  {
   "cell_type": "code",
   "execution_count": 24,
   "metadata": {},
   "outputs": [
    {
     "data": {
      "text/plain": [
       "Index(['distance_groups', 'age_group1', 'near_fid', 'near_x', 'near_y',\n",
       "       'near_angle', 'heard', 'building', 'xcoor', 'ycoor', 'noise',\n",
       "       'in_vehicle', 'asleep', 'no_windows', 'age', 'dist', 'noise_in_vehicle',\n",
       "       'noise_not_in_vehicle', 'not_noise_in_vehicle',\n",
       "       'not_noise_not_in_vehicle', 'age_group1_0-39', 'age_group1_40-49',\n",
       "       'age_group1_50-59', 'age_group1_60-69', 'age_group1_70+',\n",
       "       'age_group2_Young', 'age_group2_Middle-aged', 'age_group2_Elderly',\n",
       "       'distance_groups_0-500', 'distance_groups_500-1000',\n",
       "       'distance_groups_1000-1500', 'distance_groups_1500-2000',\n",
       "       'distance_groups_2000-2500', 'distance_groups_2500-3000',\n",
       "       'distance_groups_>3000', 'ange_span'],\n",
       "      dtype='object')"
      ]
     },
     "execution_count": 24,
     "metadata": {},
     "output_type": "execute_result"
    }
   ],
   "source": [
    "data.columns"
   ]
  },
  {
   "cell_type": "code",
   "execution_count": 25,
   "metadata": {},
   "outputs": [
    {
     "data": {
      "text/html": [
       "<div>\n",
       "<style scoped>\n",
       "    .dataframe tbody tr th:only-of-type {\n",
       "        vertical-align: middle;\n",
       "    }\n",
       "\n",
       "    .dataframe tbody tr th {\n",
       "        vertical-align: top;\n",
       "    }\n",
       "\n",
       "    .dataframe thead th {\n",
       "        text-align: right;\n",
       "    }\n",
       "</style>\n",
       "<table border=\"1\" class=\"dataframe\">\n",
       "  <thead>\n",
       "    <tr style=\"text-align: right;\">\n",
       "      <th></th>\n",
       "      <th>distance_groups</th>\n",
       "      <th>age_group1</th>\n",
       "      <th>near_fid</th>\n",
       "      <th>near_x</th>\n",
       "      <th>near_y</th>\n",
       "      <th>near_angle</th>\n",
       "      <th>heard</th>\n",
       "      <th>building</th>\n",
       "      <th>xcoor</th>\n",
       "      <th>ycoor</th>\n",
       "      <th>...</th>\n",
       "      <th>age_group2_Middle-aged</th>\n",
       "      <th>age_group2_Elderly</th>\n",
       "      <th>distance_groups_0-500</th>\n",
       "      <th>distance_groups_500-1000</th>\n",
       "      <th>distance_groups_1000-1500</th>\n",
       "      <th>distance_groups_1500-2000</th>\n",
       "      <th>distance_groups_2000-2500</th>\n",
       "      <th>distance_groups_2500-3000</th>\n",
       "      <th>distance_groups_&gt;3000</th>\n",
       "      <th>ange_span</th>\n",
       "    </tr>\n",
       "  </thead>\n",
       "  <tbody>\n",
       "    <tr>\n",
       "      <th>0</th>\n",
       "      <td>500-1000</td>\n",
       "      <td>50-59</td>\n",
       "      <td>2712</td>\n",
       "      <td>1.998301e+06</td>\n",
       "      <td>9.011692e+06</td>\n",
       "      <td>-171.588672</td>\n",
       "      <td>1</td>\n",
       "      <td>0</td>\n",
       "      <td>1999193.0</td>\n",
       "      <td>9011824</td>\n",
       "      <td>...</td>\n",
       "      <td>True</td>\n",
       "      <td>False</td>\n",
       "      <td>False</td>\n",
       "      <td>True</td>\n",
       "      <td>False</td>\n",
       "      <td>False</td>\n",
       "      <td>False</td>\n",
       "      <td>False</td>\n",
       "      <td>False</td>\n",
       "      <td>NaN</td>\n",
       "    </tr>\n",
       "    <tr>\n",
       "      <th>1</th>\n",
       "      <td>500-1000</td>\n",
       "      <td>0-39</td>\n",
       "      <td>2721</td>\n",
       "      <td>1.928907e+06</td>\n",
       "      <td>8.954624e+06</td>\n",
       "      <td>-51.208102</td>\n",
       "      <td>1</td>\n",
       "      <td>0</td>\n",
       "      <td>1928298.0</td>\n",
       "      <td>8955382</td>\n",
       "      <td>...</td>\n",
       "      <td>False</td>\n",
       "      <td>False</td>\n",
       "      <td>False</td>\n",
       "      <td>True</td>\n",
       "      <td>False</td>\n",
       "      <td>False</td>\n",
       "      <td>False</td>\n",
       "      <td>False</td>\n",
       "      <td>False</td>\n",
       "      <td>NaN</td>\n",
       "    </tr>\n",
       "    <tr>\n",
       "      <th>2</th>\n",
       "      <td>500-1000</td>\n",
       "      <td>0-39</td>\n",
       "      <td>297</td>\n",
       "      <td>2.026384e+06</td>\n",
       "      <td>8.256164e+06</td>\n",
       "      <td>39.018754</td>\n",
       "      <td>1</td>\n",
       "      <td>0</td>\n",
       "      <td>2025706.0</td>\n",
       "      <td>8255615</td>\n",
       "      <td>...</td>\n",
       "      <td>True</td>\n",
       "      <td>False</td>\n",
       "      <td>False</td>\n",
       "      <td>True</td>\n",
       "      <td>False</td>\n",
       "      <td>False</td>\n",
       "      <td>False</td>\n",
       "      <td>False</td>\n",
       "      <td>False</td>\n",
       "      <td>36-51</td>\n",
       "    </tr>\n",
       "    <tr>\n",
       "      <th>3</th>\n",
       "      <td>0-500</td>\n",
       "      <td>0-39</td>\n",
       "      <td>739</td>\n",
       "      <td>1.743184e+06</td>\n",
       "      <td>8.052652e+06</td>\n",
       "      <td>15.046022</td>\n",
       "      <td>1</td>\n",
       "      <td>0</td>\n",
       "      <td>1742935.0</td>\n",
       "      <td>8052585</td>\n",
       "      <td>...</td>\n",
       "      <td>True</td>\n",
       "      <td>False</td>\n",
       "      <td>True</td>\n",
       "      <td>False</td>\n",
       "      <td>False</td>\n",
       "      <td>False</td>\n",
       "      <td>False</td>\n",
       "      <td>False</td>\n",
       "      <td>False</td>\n",
       "      <td>12-27</td>\n",
       "    </tr>\n",
       "    <tr>\n",
       "      <th>4</th>\n",
       "      <td>500-1000</td>\n",
       "      <td>50-59</td>\n",
       "      <td>1852</td>\n",
       "      <td>1.350375e+06</td>\n",
       "      <td>7.909850e+06</td>\n",
       "      <td>144.603170</td>\n",
       "      <td>1</td>\n",
       "      <td>0</td>\n",
       "      <td>1350807.0</td>\n",
       "      <td>7909543</td>\n",
       "      <td>...</td>\n",
       "      <td>True</td>\n",
       "      <td>False</td>\n",
       "      <td>False</td>\n",
       "      <td>True</td>\n",
       "      <td>False</td>\n",
       "      <td>False</td>\n",
       "      <td>False</td>\n",
       "      <td>False</td>\n",
       "      <td>False</td>\n",
       "      <td>144-159</td>\n",
       "    </tr>\n",
       "  </tbody>\n",
       "</table>\n",
       "<p>5 rows × 36 columns</p>\n",
       "</div>"
      ],
      "text/plain": [
       "  distance_groups age_group1  near_fid        near_x        near_y   \n",
       "0        500-1000      50-59      2712  1.998301e+06  9.011692e+06  \\\n",
       "1        500-1000       0-39      2721  1.928907e+06  8.954624e+06   \n",
       "2        500-1000       0-39       297  2.026384e+06  8.256164e+06   \n",
       "3           0-500       0-39       739  1.743184e+06  8.052652e+06   \n",
       "4        500-1000      50-59      1852  1.350375e+06  7.909850e+06   \n",
       "\n",
       "   near_angle  heard  building      xcoor    ycoor  ...   \n",
       "0 -171.588672      1         0  1999193.0  9011824  ...  \\\n",
       "1  -51.208102      1         0  1928298.0  8955382  ...   \n",
       "2   39.018754      1         0  2025706.0  8255615  ...   \n",
       "3   15.046022      1         0  1742935.0  8052585  ...   \n",
       "4  144.603170      1         0  1350807.0  7909543  ...   \n",
       "\n",
       "   age_group2_Middle-aged  age_group2_Elderly  distance_groups_0-500   \n",
       "0                    True               False                  False  \\\n",
       "1                   False               False                  False   \n",
       "2                    True               False                  False   \n",
       "3                    True               False                   True   \n",
       "4                    True               False                  False   \n",
       "\n",
       "   distance_groups_500-1000  distance_groups_1000-1500   \n",
       "0                      True                      False  \\\n",
       "1                      True                      False   \n",
       "2                      True                      False   \n",
       "3                     False                      False   \n",
       "4                      True                      False   \n",
       "\n",
       "   distance_groups_1500-2000  distance_groups_2000-2500   \n",
       "0                      False                      False  \\\n",
       "1                      False                      False   \n",
       "2                      False                      False   \n",
       "3                      False                      False   \n",
       "4                      False                      False   \n",
       "\n",
       "   distance_groups_2500-3000  distance_groups_>3000  ange_span  \n",
       "0                      False                  False        NaN  \n",
       "1                      False                  False        NaN  \n",
       "2                      False                  False      36-51  \n",
       "3                      False                  False      12-27  \n",
       "4                      False                  False    144-159  \n",
       "\n",
       "[5 rows x 36 columns]"
      ]
     },
     "execution_count": 25,
     "metadata": {},
     "output_type": "execute_result"
    }
   ],
   "source": [
    "data.head()\n"
   ]
  },
  {
   "cell_type": "code",
   "execution_count": 26,
   "metadata": {},
   "outputs": [],
   "source": [
    "data_teo = pd.read_csv('/Users/teo/Downloads/siren_data_train.csv') #No Na values\n",
    "\n",
    "data_teo = pd.get_dummies(data, columns=[\"building\",\"noise\", \"in_vehicle\", \"asleep\",\"no_windows\" ])\n",
    "\n",
    "data_teo['dist'] = np.sqrt((data.near_x - data.xcoor)**2 + (data.near_y - data.ycoor)**2)\n",
    "\n",
    "feat = ['near_fid', 'near_x', 'near_y', 'near_angle', 'xcoor', 'ycoor',\n",
    "       'age', 'building_0', 'building_1', 'noise_0', 'noise_1', 'in_vehicle_0',\n",
    "       'in_vehicle_1', 'asleep_0', 'asleep_1', 'no_windows_0', 'no_windows_1', 'dist']"
   ]
  },
  {
   "cell_type": "code",
   "execution_count": 27,
   "metadata": {},
   "outputs": [],
   "source": [
    "\n",
    "x = data_teo[feat] #inputs\n",
    "y = data_teo['heard'] # output \n",
    "train_X, val_X, train_y, val_y = train_test_split(x, y, train_size=0.8)"
   ]
  },
  {
   "cell_type": "code",
   "execution_count": 72,
   "metadata": {},
   "outputs": [
    {
     "name": "stderr",
     "output_type": "stream",
     "text": [
      "/Users/teo/opt/anaconda3/lib/python3.8/site-packages/sklearn/model_selection/_search.py:918: UserWarning: One or more of the test scores are non-finite: [0.92819859 0.92508427 0.92819832 0.92566816 0.92819806 0.92664156\n",
      " 0.92858705 0.9237232         nan 0.92819806 0.92722545 0.92741981\n",
      " 0.9268354  0.92605768 0.92683619]\n",
      "  warnings.warn(\n"
     ]
    },
    {
     "data": {
      "text/plain": [
       "RandomizedSearchCV(cv=7, estimator=RandomForestClassifier(), n_iter=15,\n",
       "                   n_jobs=-1,\n",
       "                   param_distributions={'criterion': ['gini', 'entropy'],\n",
       "                                        'max_depth': [4, 5, 6, 7, 8, 9],\n",
       "                                        'min_samples_split': [1, 2, 3, 4, 5, 6],\n",
       "                                        'n_estimators': <scipy.stats._distn_infrastructure.rv_discrete_frozen object at 0x7fbe7ada4490>})"
      ]
     },
     "execution_count": 72,
     "metadata": {},
     "output_type": "execute_result"
    }
   ],
   "source": [
    "model_tree = RandomForestClassifier()\n",
    "\n",
    "par = {'n_estimators': stats.randint(50, 750), 'criterion':['gini', 'entropy'], 'max_depth': [4, 5, 6, 7, 8, 9], 'min_samples_split' : [1,2,3,4, 5, 6]}\n",
    "       \n",
    "\n",
    "\n",
    "RSC = RandomizedSearchCV(model_tree, param_distributions = par, n_iter = 15, cv=7, n_jobs = -1 )\n",
    "\n",
    "RSC.fit(train_X, train_y)"
   ]
  },
  {
   "cell_type": "code",
   "execution_count": 73,
   "metadata": {},
   "outputs": [
    {
     "data": {
      "text/plain": [
       "RandomForestClassifier(max_depth=7, min_samples_split=3, n_estimators=634)"
      ]
     },
     "execution_count": 73,
     "metadata": {},
     "output_type": "execute_result"
    }
   ],
   "source": [
    "model_tree = RSC.best_estimator_\n",
    "\n",
    "model_tree.fit(train_X, train_y)"
   ]
  },
  {
   "cell_type": "code",
   "execution_count": 74,
   "metadata": {},
   "outputs": [
    {
     "name": "stdout",
     "output_type": "stream",
     "text": [
      "heard    0    1\n",
      "row_0          \n",
      "0      113    9\n",
      "1       35  414\n",
      "acc: 0.9229422066549913\n"
     ]
    }
   ],
   "source": [
    "\n",
    "model_tree_prediction = model_tree.predict(val_X)\n",
    "\n",
    "print(pd.crosstab(model_tree_prediction, val_y))\n",
    "print(f\"acc: {np.mean(model_tree_prediction == val_y)}\")"
   ]
  },
  {
   "cell_type": "markdown",
   "metadata": {},
   "source": [
    "# LDA and QDA"
   ]
  },
  {
   "cell_type": "markdown",
   "metadata": {},
   "source": [
    "### LDA - best performing\n",
    "\n",
    "In the other jupyterfile, I've explored which features increase accuracy. \n",
    "Some highlights is that \"age\" negatively affects accuracy when we have age groups\n",
    "However \"dist\" positively affect accuracy when we have distance groups\n",
    "Distance groups increase accuracy a little bit for some cases, that's why I'm keeping them\n",
    "Features related to coordinates, suchb as xcoord, ycoord, near_x, near_y and near_angle do not affect accuracy, hence removal for simplicity\n",
    "Multiple age groups (agegroup1) performs better than only have 3 age group buckets (agegroup2). \n",
    "Having both agegroup1 and agegroup2 togheter gives no effect\n"
   ]
  },
  {
   "cell_type": "code",
   "execution_count": null,
   "metadata": {},
   "outputs": [],
   "source": []
  },
  {
   "cell_type": "code",
   "execution_count": null,
   "metadata": {},
   "outputs": [],
   "source": []
  },
  {
   "cell_type": "code",
   "execution_count": 32,
   "metadata": {},
   "outputs": [
    {
     "data": {
      "text/plain": [
       "Index(['near_fid', 'near_x', 'near_y', 'near_angle', 'building', 'xcoor',\n",
       "       'ycoor', 'noise', 'in_vehicle', 'asleep', 'no_windows', 'age', 'dist',\n",
       "       'noise_in_vehicle', 'noise_not_in_vehicle', 'not_noise_in_vehicle',\n",
       "       'not_noise_not_in_vehicle', 'age_group1_0-39', 'age_group1_40-49',\n",
       "       'age_group1_50-59', 'age_group1_60-69', 'age_group1_70+',\n",
       "       'age_group2_Young', 'age_group2_Middle-aged', 'age_group2_Elderly',\n",
       "       'distance_groups_0-500', 'distance_groups_500-1000',\n",
       "       'distance_groups_1000-1500', 'distance_groups_1500-2000',\n",
       "       'distance_groups_2000-2500', 'distance_groups_2500-3000',\n",
       "       'distance_groups_>3000'],\n",
       "      dtype='object')"
      ]
     },
     "execution_count": 32,
     "metadata": {},
     "output_type": "execute_result"
    }
   ],
   "source": [
    "X_train.columns"
   ]
  },
  {
   "cell_type": "code",
   "execution_count": 77,
   "metadata": {},
   "outputs": [
    {
     "name": "stdout",
     "output_type": "stream",
     "text": [
      "The class order in the model: \n",
      "[0 1]\n",
      "Examples of predicted probabilities for the above classes: \n",
      "[[0.999463 0.000537]\n",
      " [0.00034  0.99966 ]\n",
      " [0.049516 0.950484]\n",
      " [0.896767 0.103233]\n",
      " [0.012047 0.987953]]\n",
      "Five first predictions: \n",
      "[0 1 1 0 1] \n",
      "\n",
      "Confusion matrix: \n",
      "\n",
      "heard    0    1\n",
      "row_0          \n",
      "0      234   29\n",
      "1       56  823 \n",
      "\n",
      "Accuracy: 0.926\n"
     ]
    }
   ],
   "source": [
    "# Set these:\n",
    "\n",
    "#columns_to_remove = ['near_y', 'age', 'near_x', 'xcoor', 'ycoor', 'near_angle', 'noise', 'in_vehicle']\n",
    "#columns_to_remove = ['age']\n",
    "columns_to_remove = ['age_group2_Young','age_group2_Middle-aged', 'age_group2_Elderly','age']\n",
    "\n",
    "\n",
    "#Let these be\n",
    "current_X_train= X_train.copy().drop(columns=columns_to_remove, axis=1)\n",
    "y_train = train['heard']\n",
    "#print(current_X_train)\n",
    "\n",
    "current_X_test = X_test.copy().drop(columns=columns_to_remove, axis=1)\n",
    "y_test = test['heard']\n",
    "\n",
    "#LDA\n",
    "\n",
    "lda_model = skl_da.LinearDiscriminantAnalysis()\n",
    "lda_model.fit(current_X_train, y_train)\n",
    "\n",
    "#Predict\n",
    "\n",
    "predict_prob_lda = lda_model.predict_proba(current_X_test)\n",
    "\n",
    "print(\"The class order in the model: \")\n",
    "print(lda_model.classes_)\n",
    "\n",
    "print(\"Examples of predicted probabilities for the above classes: \")\n",
    "with np.printoptions(suppress=True, precision=6):\n",
    "    print(predict_prob_lda[0:5])\n",
    "\n",
    "prediction_lda = np.empty(len(current_X_test), dtype=object)\n",
    "prediction_lda = np.where(predict_prob_lda[:, 0] >= 0.5, 0, 1) #0 is not heard, 1 is heard\n",
    "print(\"Five first predictions: \")\n",
    "print(prediction_lda[0:5], \"\\n\")\n",
    "\n",
    "\n",
    "# Confusion matrix\n",
    "print(\"Confusion matrix: \\n\")\n",
    "print(pd.crosstab(prediction_lda, y_test), \"\\n\")\n",
    "\n",
    "#Accuracy\n",
    "print(f\"Accuracy: {np.mean(prediction_lda == y_test):.3f}\")"
   ]
  },
  {
   "cell_type": "markdown",
   "metadata": {},
   "source": [
    "### LDA Result\n",
    "\n",
    "so best accuracy for LDA is 92.6%"
   ]
  },
  {
   "cell_type": "markdown",
   "metadata": {},
   "source": [
    "### QDA"
   ]
  },
  {
   "cell_type": "markdown",
   "metadata": {},
   "source": [
    "###  add this info to the report: https://stats.stackexchange.com/questions/29385/collinear-variables-in-multiclass-lda-training"
   ]
  },
  {
   "cell_type": "code",
   "execution_count": 34,
   "metadata": {},
   "outputs": [],
   "source": [
    "### As many values correlate together, one idea is to group them going forward. \n",
    "# Otherwise we likely get weird results below. But for now I will let it be, fix laterrr"
   ]
  },
  {
   "cell_type": "code",
   "execution_count": 35,
   "metadata": {},
   "outputs": [],
   "source": [
    "#Likely the same values as in LDA is good for QDA"
   ]
  },
  {
   "cell_type": "code",
   "execution_count": 36,
   "metadata": {},
   "outputs": [
    {
     "data": {
      "image/png": "[encoded data removed]",
      "text/plain": [
       "<Figure size 1152x432 with 2 Axes>"
      ]
     },
     "metadata": {
      "needs_background": "light"
     },
     "output_type": "display_data"
    }
   ],
   "source": [
    "# Increase the size of the heatmap.\n",
    "plt.figure(figsize=(16, 6))\n",
    "# Store heatmap object in a variable to easily access it when you want to include more features (such as title).\n",
    "# Set the range of values to be displayed on the colormap from -1 to 1, and set the annotation to True to display the correlation values on the heatmap.\n",
    "heatmap = sns.heatmap(current_X_train.corr(), vmin=-1, vmax=1, annot=False)\n",
    "# Give a title to the heatmap. Pad defines the distance of the title from the top of the heatmap.\n",
    "heatmap.set_title('Correlation Heatmap', fontdict={'fontsize':12}, pad=12);"
   ]
  },
  {
   "cell_type": "code",
   "execution_count": 37,
   "metadata": {},
   "outputs": [],
   "source": [
    "#However we see that some features, such as noise_in_vehicle etc correlate strongly to both noise and in_vehicle, better remove those newly created features\n",
    "\n"
   ]
  },
  {
   "cell_type": "code",
   "execution_count": 38,
   "metadata": {},
   "outputs": [],
   "source": [
    "columns_to_remove = ['noise_in_vehicle', 'noise_not_in_vehicle', 'not_noise_in_vehicle',\n",
    "       'not_noise_not_in_vehicle', 'near_x', 'near_y', 'near_angle', 'xcoor', 'ycoor', 'distance_groups_0-500', 'distance_groups_500-1000',\n",
    "       'distance_groups_1000-1500', 'distance_groups_1500-2000',\n",
    "       'distance_groups_2000-2500', 'distance_groups_2500-3000',\n",
    "       'distance_groups_>3000', 'age_group1_0-39', 'age_group1_40-49', 'age_group1_50-59',\n",
    "       'age_group1_60-69', 'age_group1_70+' , 'age_group2_Young', 'age_group2_Middle-aged',\n",
    "       'age_group2_Elderly']\n",
    "X_train_QDA = X_train.drop(columns=columns_to_remove , axis=1)\n",
    "X_test_QDA = X_test.drop(columns=columns_to_remove , axis=1)"
   ]
  },
  {
   "cell_type": "code",
   "execution_count": 39,
   "metadata": {},
   "outputs": [
    {
     "data": {
      "text/plain": [
       "Index(['near_fid', 'building', 'noise', 'in_vehicle', 'asleep', 'no_windows',\n",
       "       'age', 'dist'],\n",
       "      dtype='object')"
      ]
     },
     "execution_count": 39,
     "metadata": {},
     "output_type": "execute_result"
    }
   ],
   "source": [
    "X_train_QDA.columns"
   ]
  },
  {
   "cell_type": "code",
   "execution_count": 40,
   "metadata": {},
   "outputs": [
    {
     "data": {
      "image/png": "[encoded data removed]",
      "text/plain": [
       "<Figure size 1152x432 with 2 Axes>"
      ]
     },
     "metadata": {
      "needs_background": "light"
     },
     "output_type": "display_data"
    }
   ],
   "source": [
    "# Increase the size of the heatmap.\n",
    "plt.figure(figsize=(16, 6))\n",
    "# Store heatmap object in a variable to easily access it when you want to include more features (such as title).\n",
    "# Set the range of values to be displayed on the colormap from -1 to 1, and set the annotation to True to display the correlation values on the heatmap.\n",
    "heatmap = sns.heatmap(X_train_QDA.corr(), vmin=-1, vmax=1, annot=False)\n",
    "# Give a title to the heatmap. Pad defines the distance of the title from the top of the heatmap.\n",
    "heatmap.set_title('Correlation Heatmap', fontdict={'fontsize':12}, pad=12);"
   ]
  },
  {
   "cell_type": "code",
   "execution_count": 41,
   "metadata": {},
   "outputs": [],
   "source": [
    "#now we see no strong correlations in our matrix. However some are still purple"
   ]
  },
  {
   "cell_type": "code",
   "execution_count": 42,
   "metadata": {},
   "outputs": [],
   "source": [
    "columns_to_remove = ['asleep', 'distance_groups_>3000', 'noise', 'age_group1_50-59', 'distance_groups_2500-3000']\n",
    "#columns_to_remove = ['asleep', 'distance_groups_>3000', 'distance_groups_2500-3000']\n",
    "X_train_QDA = X_train.drop(columns=columns_to_remove , axis=1)\n",
    "X_test_QDA = X_test.drop(columns=columns_to_remove , axis=1)"
   ]
  },
  {
   "cell_type": "code",
   "execution_count": 43,
   "metadata": {},
   "outputs": [
    {
     "name": "stdout",
     "output_type": "stream",
     "text": [
      "The class order in the model: \n",
      "[0 1]\n",
      "Examples of predicted probabilities for the above classes: \n",
      "[[1. 0.]\n",
      " [0. 1.]\n",
      " [0. 1.]\n",
      " [1. 0.]\n",
      " [0. 1.]]\n",
      "Five first predictions: \n",
      "[0 1 1 0 1] \n",
      "\n",
      "Confusion matrix: \n",
      "\n",
      "heard    0    1\n",
      "row_0          \n",
      "0      226   33\n",
      "1       64  819 \n",
      "\n",
      "Accuracy: 0.915\n"
     ]
    },
    {
     "name": "stderr",
     "output_type": "stream",
     "text": [
      "/Users/teo/opt/anaconda3/lib/python3.8/site-packages/sklearn/discriminant_analysis.py:808: UserWarning: Variables are collinear\n",
      "  warnings.warn(\"Variables are collinear\")\n"
     ]
    }
   ],
   "source": [
    "qda_model = skl_da.QuadraticDiscriminantAnalysis()\n",
    "qda_model.fit(X_train_QDA, y_train)\n",
    "\n",
    "predict_prob_qda = qda_model.predict_proba(X_test_QDA)\n",
    "\n",
    "print(\"The class order in the model: \")\n",
    "print(qda_model.classes_)\n",
    "\n",
    "print(\"Examples of predicted probabilities for the above classes: \")\n",
    "with np.printoptions(suppress=True, precision=6):\n",
    "    print(predict_prob_qda[0:5])\n",
    "\n",
    "prediction_qda = np.empty(len(X_test_QDA), dtype=object)\n",
    "prediction_qda = np.where(predict_prob_qda[:, 0] >= 0.5, 0, 1) #0 is not heard, 1 is heard\n",
    "print(\"Five first predictions: \")\n",
    "print(prediction_qda[0:5], \"\\n\")\n",
    "\n",
    "\n",
    "# Confusion matrix\n",
    "print(\"Confusion matrix: \\n\")\n",
    "print(pd.crosstab(prediction_qda, y_test), \"\\n\")\n",
    "\n",
    "#Accuracy\n",
    "print(f\"Accuracy: {np.mean(prediction_qda == y_test):.3f}\")"
   ]
  },
  {
   "cell_type": "markdown",
   "metadata": {},
   "source": [
    "### QDA result\n",
    "\n",
    "So best accuracy I can perform for QDA is 91.5% accuracy. The values are still collinear, but if I remove them accuracy drops to roughly 24%\n",
    "\n"
   ]
  },
  {
   "cell_type": "markdown",
   "metadata": {},
   "source": [
    "#### Assessment"
   ]
  },
  {
   "cell_type": "code",
   "execution_count": 44,
   "metadata": {},
   "outputs": [],
   "source": [
    "def classification_report_interval(\n",
    "    y_true,\n",
    "    y_pred,\n",
    "    labels=None,\n",
    "    alpha = 0.01,\n",
    "    union_bound_correction=True\n",
    "):\n",
    "    \"\"\"Produces a classification report with precision, recall and accuracy\n",
    "    It also uses Hoeffdings inequality to produce confidence intervals around\n",
    "    each measurement. We can do this with or without multiple measurement\n",
    "    correction (union bound correction).\n",
    "\n",
    "    Example output is:\n",
    "                labels           precision             recall\n",
    "\n",
    "               0.0  0.88 : [0.50,1.00] 0.40 : [0.15,0.65]\n",
    "               1.0  0.56 : [0.34,0.78] 0.93 : [0.65,1.00]\n",
    "\n",
    "          accuracy                                        0.64 : [0.45,0.83]\n",
    "\n",
    "    Parameters:\n",
    "    y_true                          -- The true labels\n",
    "    y_pred                          -- The predicted labels\n",
    "    labels                          -- TODO\n",
    "    alpha[0.01]                     -- The confidence level of the intervals\n",
    "    union_bound_correction[True]    -- If we should compensate with the union bound because we\n",
    "                                    have multiple intervals to compute in order to keep the level\n",
    "                                    of confidence for all intervals jointly.\n",
    "\n",
    "    Returns:\n",
    "    a printable string.\n",
    "    \"\"\"\n",
    "    import numpy as np\n",
    "\n",
    "    def precision_recall(y_true,\n",
    "        y_pred,\n",
    "        labels=None,alpha=0.01, correction=1):\n",
    "        p = []\n",
    "        r = []\n",
    "        f1 = []\n",
    "        support = []\n",
    "        for label in labels:\n",
    "            y_true_pred_label = y_true[y_pred == label]\n",
    "            precision = np.mean(y_true_pred_label == label)\n",
    "            delta = (1/np.sqrt(len(y_true_pred_label)))*np.sqrt((1/2)*np.log(2*correction/alpha))\n",
    "            p.append(\"%.2f : [%.2f,%.2f]\" % (precision, np.maximum(precision-delta,0),np.minimum(precision+delta,1)))\n",
    "\n",
    "            y_pred_true_label = y_pred[y_true == label]\n",
    "            recall = np.mean(y_pred_true_label == label)\n",
    "            delta = (1/np.sqrt(len(y_pred_true_label)))*np.sqrt((1/2)*np.log(2*correction/alpha))\n",
    "            r.append(\"%.2f : [%.2f,%.2f]\" % (recall, np.maximum(recall-delta,0),np.minimum(recall+delta,1)))\n",
    "\n",
    "        return (p,r)\n",
    "\n",
    "    def accuracy_interval(y_true,y_pred,alpha=0.01,correction=1):\n",
    "        acc = np.mean(y_true == y_pred)\n",
    "        delta = (1/np.sqrt(len(y_true)))*np.sqrt((1/2)*np.log(2*correction/alpha))\n",
    "        return \"%.2f : [%.2f,%.2f]\" % (acc, np.maximum(acc-delta,0),np.minimum(acc+delta,1))\n",
    "\n",
    "    digits = 18\n",
    "    target_names = None\n",
    "    if labels is None:\n",
    "        labels = list(set(y_true).union(set(y_pred)))\n",
    "        labels_given = False\n",
    "    else:\n",
    "        labels = np.asarray(labels)\n",
    "        labels_given = True\n",
    "\n",
    "    target_names = [\"%s\" % l for l in labels]\n",
    "\n",
    "    headers = [\"precision\", \"recall\"]\n",
    "    # compute per-class results without averaging\n",
    "    # Simple correction using the union bound\n",
    "    # We are computing 2 intervals for each label for precision and recall\n",
    "    # In addition we are computing 2 intervals for accuracy\n",
    "    # This is in total 2*n_labels+2\n",
    "    if (union_bound_correction):\n",
    "        correction = 2*len(labels)+2\n",
    "    else:\n",
    "        correction=1\n",
    "    p, r = precision_recall(\n",
    "        y_true,\n",
    "        y_pred,\n",
    "        labels=labels,\n",
    "        alpha=alpha,\n",
    "        correction=correction\n",
    "    )\n",
    "\n",
    "    rows = zip(target_names, p, r)\n",
    "\n",
    "    name_width = max(len(cn) for cn in target_names)\n",
    "    width = max(name_width, digits)\n",
    "    head_fmt = \"{:>{width}s} \" + \" {:>{digits}}\" * len(headers)\n",
    "    report = head_fmt.format(\"labels\", *headers, width=width,digits=digits)\n",
    "    report += \"\\n\\n\"\n",
    "    row_fmt = \"{:>{width}s} \" + \" {:>{digits}s}\" * 2 + \"\\n\"\n",
    "    for row in rows:\n",
    "        report += row_fmt.format(*row, width=width, digits=digits)\n",
    "    row_fmt_acc = \"{:>{width}s} \" + \" {:>{digits}s}\" * 2 + \" {:>{digits}s}\"\"\\n\"\n",
    "    report += \"\\n\"\n",
    "    accuracy = accuracy_interval(y_true,y_pred,alpha=alpha,correction=correction)\n",
    "    report+=row_fmt_acc.format(*(\"accuracy\",\"\",\"\",accuracy),width=width,digits=digits)\n",
    "\n",
    "    return report"
   ]
  },
  {
   "cell_type": "code",
   "execution_count": 45,
   "metadata": {},
   "outputs": [
    {
     "name": "stdout",
     "output_type": "stream",
     "text": [
      "Performance assessment LDA\n",
      "Confidence intervals are within brackets\n",
      "            labels           precision             recall\n",
      "\n",
      "                 0  0.89 : [0.79,0.99] 0.81 : [0.71,0.90]\n",
      "                 1  0.94 : [0.88,0.99] 0.97 : [0.91,1.00]\n",
      "\n",
      "          accuracy                                        0.93 : [0.88,0.97]\n",
      "\n"
     ]
    }
   ],
   "source": [
    "report_lda = classification_report_interval(\n",
    "    y_test.values.reshape(-1),\n",
    "    prediction_lda,\n",
    "    alpha = 0.05,\n",
    ")\n",
    "\n",
    "print(\"Performance assessment LDA\")\n",
    "print(\"Confidence intervals are within brackets\")\n",
    "print(report_lda)"
   ]
  },
  {
   "cell_type": "code",
   "execution_count": 46,
   "metadata": {},
   "outputs": [
    {
     "data": {
      "image/png": "[encoded data removed]",
      "text/plain": [
       "<Figure size 432x288 with 2 Axes>"
      ]
     },
     "metadata": {
      "needs_background": "light"
     },
     "output_type": "display_data"
    }
   ],
   "source": [
    "labels = [\"Not heard\", \"Heard\"]\n",
    "cm = confusion_matrix(y_test, prediction_lda)\n",
    "disp = ConfusionMatrixDisplay(confusion_matrix=cm, display_labels=labels)\n",
    "disp.plot();"
   ]
  },
  {
   "cell_type": "code",
   "execution_count": 47,
   "metadata": {},
   "outputs": [
    {
     "name": "stdout",
     "output_type": "stream",
     "text": [
      "Performance assessment QDA\n",
      "Confidence intervals are within brackets\n",
      "            labels           precision             recall\n",
      "\n",
      "                 0  0.87 : [0.77,0.98] 0.78 : [0.68,0.88]\n",
      "                 1  0.93 : [0.87,0.98] 0.96 : [0.90,1.00]\n",
      "\n",
      "          accuracy                                        0.92 : [0.87,0.96]\n",
      "\n"
     ]
    }
   ],
   "source": [
    "report_qda = classification_report_interval(\n",
    "    y_test.values.reshape(-1),\n",
    "    prediction_qda,\n",
    "    alpha = 0.05,\n",
    ")\n",
    "\n",
    "print(\"Performance assessment QDA\")\n",
    "print(\"Confidence intervals are within brackets\")\n",
    "print(report_qda)"
   ]
  },
  {
   "cell_type": "code",
   "execution_count": 48,
   "metadata": {},
   "outputs": [
    {
     "data": {
      "image/png": "[encoded data removed]",
      "text/plain": [
       "<Figure size 432x288 with 2 Axes>"
      ]
     },
     "metadata": {
      "needs_background": "light"
     },
     "output_type": "display_data"
    }
   ],
   "source": [
    "labels = [\"Not heard\", \"Heard\"]\n",
    "cm = confusion_matrix(y_test, prediction_qda)\n",
    "disp = ConfusionMatrixDisplay(confusion_matrix=cm, display_labels=labels)\n",
    "disp.plot();"
   ]
  },
  {
   "cell_type": "code",
   "execution_count": null,
   "metadata": {},
   "outputs": [],
   "source": []
  },
  {
   "cell_type": "code",
   "execution_count": null,
   "metadata": {},
   "outputs": [],
   "source": []
  },
  {
   "cell_type": "code",
   "execution_count": null,
   "metadata": {},
   "outputs": [],
   "source": []
  },
  {
   "cell_type": "markdown",
   "metadata": {},
   "source": [
    "# Extra, compare sampling methods"
   ]
  },
  {
   "cell_type": "code",
   "execution_count": 49,
   "metadata": {},
   "outputs": [
    {
     "name": "stdout",
     "output_type": "stream",
     "text": [
      "     Overall performance  Stratified    Random  Strat. % error  Rand. % error\n",
      "age                                                                          \n",
      "18              0.011033    0.011384  0.017513        3.174603      58.730159\n",
      "19              0.012434    0.012259  0.014011       -1.408451      12.676056\n",
      "20              0.012434    0.012259  0.008757       -1.408451     -29.577465\n",
      "21              0.015762    0.015762  0.017513        0.000000      11.111111\n",
      "22              0.012960    0.013135  0.014886        1.351351      14.864865\n",
      "..                   ...         ...       ...             ...            ...\n",
      "84              0.002977    0.002627  0.004378      -11.764706      47.058824\n",
      "85              0.005429    0.005254  0.004378       -3.225806     -19.354839\n",
      "86              0.003853    0.003503  0.004378       -9.090909      13.636364\n",
      "87              0.003678    0.003503  0.003503       -4.761905      -4.761905\n",
      "88              0.002977    0.002627  0.001751      -11.764706     -41.176471\n",
      "\n",
      "[71 rows x 5 columns]\n"
     ]
    }
   ],
   "source": [
    "#compare performances, stratified sampling is better for age group\n",
    "\n",
    "import pandas as pd\n",
    "from sklearn.model_selection import train_test_split, StratifiedShuffleSplit\n",
    "\n",
    "def split_comparison(data, target_column, test_size=0.2, random_state=None):\n",
    "    # Original data overall performance\n",
    "    overall_performance = data[target_column].value_counts(normalize=True)\n",
    "    \n",
    "    # Stratified Sampling\n",
    "    split = StratifiedShuffleSplit(n_splits=1, test_size=test_size, random_state=random_state)\n",
    "    for train_index, test_index in split.split(data, data[target_column]):\n",
    "        strat_train_set = data.loc[train_index]\n",
    "        strat_test_set = data.loc[test_index]\n",
    "    \n",
    "    # Random Sampling\n",
    "    rand_train_set, rand_test_set = train_test_split(data, test_size=test_size, random_state=random_state)\n",
    "    \n",
    "    # Calculate performance metrics for stratified sampling\n",
    "    strat_train_performance = strat_train_set[target_column].value_counts(normalize=True)\n",
    "    strat_test_performance = strat_test_set[target_column].value_counts(normalize=True)\n",
    "    \n",
    "    # Calculate performance metrics for random sampling\n",
    "    rand_train_performance = rand_train_set[target_column].value_counts(normalize=True)\n",
    "    rand_test_performance = rand_test_set[target_column].value_counts(normalize=True)\n",
    "    \n",
    "    # Calculate percentage error\n",
    "    strat_train_error = ((strat_train_performance - overall_performance) / overall_performance) * 100\n",
    "    strat_test_error = ((strat_test_performance - overall_performance) / overall_performance) * 100\n",
    "    \n",
    "    rand_train_error = ((rand_train_performance - overall_performance) / overall_performance) * 100\n",
    "    rand_test_error = ((rand_test_performance - overall_performance) / overall_performance) * 100\n",
    "    \n",
    "    # Create comparison table\n",
    "    comparison_df = pd.DataFrame({\n",
    "        'Overall performance': overall_performance,\n",
    "        'Stratified': strat_test_performance,\n",
    "        'Random': rand_test_performance,\n",
    "        'Strat. % error': strat_test_error,\n",
    "        'Rand. % error': rand_test_error\n",
    "    })\n",
    "    \n",
    "    return comparison_df\n",
    "\n",
    "# Example usage:\n",
    "comparison_table = split_comparison(data, target_column='age', test_size=0.2, random_state=42)\n",
    "print(comparison_table)\n"
   ]
  },
  {
   "cell_type": "code",
   "execution_count": null,
   "metadata": {},
   "outputs": [],
   "source": []
  }
 ],
 "metadata": {
  "kernelspec": {
   "display_name": "Python 3 (ipykernel)",
   "language": "python",
   "name": "python3"
  },
  "language_info": {
   "codemirror_mode": {
    "name": "ipython",
    "version": 3
   },
   "file_extension": ".py",
   "mimetype": "text/x-python",
   "name": "python",
   "nbconvert_exporter": "python",
   "pygments_lexer": "ipython3",
   "version": "3.8.8"
  },
  "vscode": {
   "interpreter": {
    "hash": "aee8b7b246df8f9039afb4144a1f6fd8d2ca17a180786b69acc140d282b71a49"
   }
  }
 },
 "nbformat": 4,
 "nbformat_minor": 4
}
